{
 "cells": [
  {
   "cell_type": "markdown",
   "id": "olive-designation",
   "metadata": {},
   "source": [
    "### Change.org_stance_4"
   ]
  },
  {
   "cell_type": "code",
   "execution_count": 29,
   "id": "legal-reggae",
   "metadata": {},
   "outputs": [],
   "source": [
    "# Change Org \n",
    "import pandas as pd\n",
    "from sklearn.metrics import cohen_kappa_score, confusion_matrix\n",
    "from statistics import *"
   ]
  },
  {
   "cell_type": "code",
   "execution_count": 9,
   "id": "least-muslim",
   "metadata": {},
   "outputs": [
    {
     "data": {
      "text/html": [
       "<div>\n",
       "<style scoped>\n",
       "    .dataframe tbody tr th:only-of-type {\n",
       "        vertical-align: middle;\n",
       "    }\n",
       "\n",
       "    .dataframe tbody tr th {\n",
       "        vertical-align: top;\n",
       "    }\n",
       "\n",
       "    .dataframe thead th {\n",
       "        text-align: right;\n",
       "    }\n",
       "</style>\n",
       "<table border=\"1\" class=\"dataframe\">\n",
       "  <thead>\n",
       "    <tr style=\"text-align: right;\">\n",
       "      <th></th>\n",
       "      <th>text</th>\n",
       "      <th>annotation_105</th>\n",
       "      <th>annotation_106</th>\n",
       "      <th>annotation_107</th>\n",
       "      <th>annotation_108</th>\n",
       "    </tr>\n",
       "  </thead>\n",
       "  <tbody>\n",
       "    <tr>\n",
       "      <th>0</th>\n",
       "      <td>Get CoVID Vaccines to Nepal ASAP and prevent a...</td>\n",
       "      <td>pro-mitigation</td>\n",
       "      <td>pro-mitigation</td>\n",
       "      <td>pro-mitigation</td>\n",
       "      <td>pro-mitigation</td>\n",
       "    </tr>\n",
       "    <tr>\n",
       "      <th>1</th>\n",
       "      <td>Compensate Essential Workers</td>\n",
       "      <td>pro-mitigation</td>\n",
       "      <td>pro-mitigation</td>\n",
       "      <td>pro-mitigation</td>\n",
       "      <td>unclear</td>\n",
       "    </tr>\n",
       "    <tr>\n",
       "      <th>2</th>\n",
       "      <td>Amend Recent COVID-19 Restrictions for Persona...</td>\n",
       "      <td>anti-mitigation</td>\n",
       "      <td>anti-mitigation</td>\n",
       "      <td>anti-mitigation</td>\n",
       "      <td>unclear</td>\n",
       "    </tr>\n",
       "    <tr>\n",
       "      <th>3</th>\n",
       "      <td>Petition against COVID-19 &amp; Quarantine Bill: S...</td>\n",
       "      <td>unclear</td>\n",
       "      <td>pro-mitigation</td>\n",
       "      <td>anti-mitigation</td>\n",
       "      <td>anti-mitigation</td>\n",
       "    </tr>\n",
       "    <tr>\n",
       "      <th>4</th>\n",
       "      <td>KCL Has Coronavirus Case: Petition to Have Onl...</td>\n",
       "      <td>pro-mitigation</td>\n",
       "      <td>pro-mitigation</td>\n",
       "      <td>pro-mitigation</td>\n",
       "      <td>pro-mitigation</td>\n",
       "    </tr>\n",
       "    <tr>\n",
       "      <th>...</th>\n",
       "      <td>...</td>\n",
       "      <td>...</td>\n",
       "      <td>...</td>\n",
       "      <td>...</td>\n",
       "      <td>...</td>\n",
       "    </tr>\n",
       "    <tr>\n",
       "      <th>295</th>\n",
       "      <td>Cover Covid19 Exposed or Contracted Longshore ...</td>\n",
       "      <td>unclear</td>\n",
       "      <td>pro-mitigation</td>\n",
       "      <td>pro-mitigation</td>\n",
       "      <td>unclear</td>\n",
       "    </tr>\n",
       "    <tr>\n",
       "      <th>296</th>\n",
       "      <td>SAY NO to using the Wyndham, Fresh Meadows to ...</td>\n",
       "      <td>unclear</td>\n",
       "      <td>pro-mitigation</td>\n",
       "      <td>unclear</td>\n",
       "      <td>unclear</td>\n",
       "    </tr>\n",
       "    <tr>\n",
       "      <th>297</th>\n",
       "      <td>Postpone VTU exams</td>\n",
       "      <td>unclear</td>\n",
       "      <td>pro-mitigation</td>\n",
       "      <td>pro-mitigation</td>\n",
       "      <td>unclear</td>\n",
       "    </tr>\n",
       "    <tr>\n",
       "      <th>298</th>\n",
       "      <td>Help convince Inslee and WIAA to allow HS spri...</td>\n",
       "      <td>anti-mitigation</td>\n",
       "      <td>anti-mitigation</td>\n",
       "      <td>anti-mitigation</td>\n",
       "      <td>anti-mitigation</td>\n",
       "    </tr>\n",
       "    <tr>\n",
       "      <th>299</th>\n",
       "      <td>NZTR: Shifting the two Guineas Group One races...</td>\n",
       "      <td>unclear</td>\n",
       "      <td>anti-mitigation</td>\n",
       "      <td>unclear</td>\n",
       "      <td>anti-mitigation</td>\n",
       "    </tr>\n",
       "  </tbody>\n",
       "</table>\n",
       "<p>300 rows × 5 columns</p>\n",
       "</div>"
      ],
      "text/plain": [
       "                                                  text   annotation_105  \\\n",
       "0    Get CoVID Vaccines to Nepal ASAP and prevent a...   pro-mitigation   \n",
       "1                         Compensate Essential Workers   pro-mitigation   \n",
       "2    Amend Recent COVID-19 Restrictions for Persona...  anti-mitigation   \n",
       "3    Petition against COVID-19 & Quarantine Bill: S...          unclear   \n",
       "4    KCL Has Coronavirus Case: Petition to Have Onl...   pro-mitigation   \n",
       "..                                                 ...              ...   \n",
       "295  Cover Covid19 Exposed or Contracted Longshore ...          unclear   \n",
       "296  SAY NO to using the Wyndham, Fresh Meadows to ...          unclear   \n",
       "297                                 Postpone VTU exams          unclear   \n",
       "298  Help convince Inslee and WIAA to allow HS spri...  anti-mitigation   \n",
       "299  NZTR: Shifting the two Guineas Group One races...          unclear   \n",
       "\n",
       "      annotation_106   annotation_107   annotation_108  \n",
       "0     pro-mitigation   pro-mitigation   pro-mitigation  \n",
       "1     pro-mitigation   pro-mitigation          unclear  \n",
       "2    anti-mitigation  anti-mitigation          unclear  \n",
       "3     pro-mitigation  anti-mitigation  anti-mitigation  \n",
       "4     pro-mitigation   pro-mitigation   pro-mitigation  \n",
       "..               ...              ...              ...  \n",
       "295   pro-mitigation   pro-mitigation          unclear  \n",
       "296   pro-mitigation          unclear          unclear  \n",
       "297   pro-mitigation   pro-mitigation          unclear  \n",
       "298  anti-mitigation  anti-mitigation  anti-mitigation  \n",
       "299  anti-mitigation          unclear  anti-mitigation  \n",
       "\n",
       "[300 rows x 5 columns]"
      ]
     },
     "execution_count": 9,
     "metadata": {},
     "output_type": "execute_result"
    }
   ],
   "source": [
    "change_org = pd.read_csv(\"/home/chinnu/Downloads/change.org_stance_4.csv\")\n",
    "change_org"
   ]
  },
  {
   "cell_type": "code",
   "execution_count": 39,
   "id": "conscious-pharmaceutical",
   "metadata": {},
   "outputs": [],
   "source": [
    "df1 = change_org.iloc[:, 1:]\n",
    "df1\n",
    "annotators = list(df1.columns)\n",
    "avg_scores=[]\n",
    "def cohen_kappa(an1, an2):\n",
    "    return cohen_kappa_score(df1[an1], df1[an2])\n",
    "# Cohen_kappa for annotation_105\n",
    "an_105=[]\n",
    "an_105.append(cohen_kappa('annotation_105', 'annotation_106'))\n",
    "an_105.append(cohen_kappa('annotation_105', 'annotation_107'))\n",
    "an_105.append(cohen_kappa('annotation_105', 'annotation_108'))\n",
    "an_105\n",
    "an_105_score = mean(an_105)\n",
    "avg_scores.append(an_105_score)"
   ]
  },
  {
   "cell_type": "code",
   "execution_count": 40,
   "id": "patent-discipline",
   "metadata": {},
   "outputs": [],
   "source": [
    "# Cohen_kappa for annotation_106\n",
    "an_106=[]\n",
    "an_106.append(cohen_kappa('annotation_106', 'annotation_105'))\n",
    "an_106.append(cohen_kappa('annotation_106', 'annotation_107'))\n",
    "an_106.append(cohen_kappa('annotation_106', 'annotation_108'))\n",
    "an_106\n",
    "an_106_score = mean(an_106)\n",
    "an_106_score\n",
    "avg_scores.append(an_106_score)"
   ]
  },
  {
   "cell_type": "code",
   "execution_count": 41,
   "id": "fabulous-singapore",
   "metadata": {},
   "outputs": [],
   "source": [
    "# Cohen_kappa for annotation_107\n",
    "an_107=[]\n",
    "an_107.append(cohen_kappa('annotation_107', 'annotation_105'))\n",
    "an_107.append(cohen_kappa('annotation_107', 'annotation_106'))\n",
    "an_107.append(cohen_kappa('annotation_107', 'annotation_108'))\n",
    "an_107\n",
    "an_107_score = mean(an_107)\n",
    "an_107_score\n",
    "avg_scores.append(an_107_score)"
   ]
  },
  {
   "cell_type": "code",
   "execution_count": 42,
   "id": "russian-genre",
   "metadata": {},
   "outputs": [],
   "source": [
    "# Cohen_kappa for annotation_108\n",
    "an_108=[]\n",
    "an_108.append(cohen_kappa('annotation_108', 'annotation_105'))\n",
    "an_108.append(cohen_kappa('annotation_108', 'annotation_106'))\n",
    "an_108.append(cohen_kappa('annotation_108', 'annotation_107'))\n",
    "an_108\n",
    "an_108_score = mean(an_108)\n",
    "avg_scores.append(an_108_score)"
   ]
  },
  {
   "cell_type": "code",
   "execution_count": 45,
   "id": "dependent-diabetes",
   "metadata": {},
   "outputs": [],
   "source": [
    "# drop if < 0.2\n",
    "avg_scores\n",
    "for i in avg_scores:\n",
    "    if i < 0.2:\n",
    "        name = annotators[i]\n",
    "        df1.drop(name)"
   ]
  },
  {
   "cell_type": "code",
   "execution_count": 50,
   "id": "rural-implement",
   "metadata": {},
   "outputs": [
    {
     "data": {
      "text/plain": [
       "[0.46128511638707226,\n",
       " 0.3695093944170927,\n",
       " 0.4661858847521502,\n",
       " 0.4282759993712198]"
      ]
     },
     "execution_count": 50,
     "metadata": {},
     "output_type": "execute_result"
    }
   ],
   "source": [
    "array_words = df1.values\n",
    "avg_scores"
   ]
  },
  {
   "cell_type": "code",
   "execution_count": 51,
   "id": "equipped-queue",
   "metadata": {},
   "outputs": [
    {
     "data": {
      "text/plain": [
       "'annotation_107'"
      ]
     },
     "execution_count": 51,
     "metadata": {},
     "output_type": "execute_result"
    }
   ],
   "source": [
    "cohen_kappa_max = avg_scores\n",
    "cohen_kappa_annotators = ['annotation_105', 'annotation_106', 'annotation_107','annotation_108']\n",
    "max_cohen = max(cohen_kappa_max)\n",
    "max_cohen_index = cohen_kappa_max.index(max_cohen)\n",
    "maxer = cohen_kappa_annotators[max_cohen_index]\n",
    "maxer"
   ]
  },
  {
   "cell_type": "code",
   "execution_count": 57,
   "id": "impaired-penalty",
   "metadata": {},
   "outputs": [],
   "source": [
    "row_count = 0\n",
    "fin_label=[]\n",
    "for i in array_words:\n",
    "    row_count += 1\n",
    "    count_unclear=0\n",
    "    count_anti=0\n",
    "    count_pro=0\n",
    "    for j in i:\n",
    "        if j==\"unclear\":\n",
    "            count_unclear += 1\n",
    "        if j==\"pro-mitigation\":\n",
    "            count_pro += 1\n",
    "        if j==\"anti-mitigation\":\n",
    "            count_anti += 1\n",
    "    add_to_list = []\n",
    "    add_to_list.append(count_anti)# anti, unclear, pro\n",
    "    add_to_list.append(count_unclear)\n",
    "    add_to_list.append(count_pro)\n",
    "    list_of_labels=[\"anti-mitigation\", \"unclear\", \"pro-mitigation\"]\n",
    "    max_val=max(add_to_list)\n",
    "    max_ind = [m for m,n in enumerate(add_to_list) if n==max_val]\n",
    "    if len(max_ind)==1:\n",
    "        if (count_unclear > count_pro) and (count_unclear > count_anti):\n",
    "            fin_label.append(\"unclear\")\n",
    "        if (count_pro>count_anti) and (count_pro>count_unclear):\n",
    "            fin_label.append(\"pro-mitigation\")\n",
    "        if (count_anti > count_pro) and (count_anti > count_unclear):\n",
    "            fin_label.append(\"anti-mitigation\")\n",
    "    \n",
    "    elif len(max_ind)==2:\n",
    "        new_ls = []\n",
    "        for k in max_ind:\n",
    "            new_ls.append(list_of_labels[k])\n",
    "            \n",
    "        lab = df1[maxer].iloc[row_count-1]\n",
    "        if lab in new_ls:\n",
    "            fin_label.append(lab)\n",
    "                \n",
    "    else:\n",
    "        fin_label.append('missing')\n"
   ]
  },
  {
   "cell_type": "code",
   "execution_count": 56,
   "id": "impaired-charles",
   "metadata": {},
   "outputs": [],
   "source": [
    "final_df = pd.DataFrame(change_org['text'])\n",
    "final_df['label'] = fin_label\n",
    "# final_df\n",
    "final_df.to_csv(\"/home/chinnu/Desktop/Semester_2/NLP/Project/change.org_stance_4_final.csv\", index=False)"
   ]
  },
  {
   "cell_type": "markdown",
   "id": "perfect-evidence",
   "metadata": {},
   "source": [
    "## Change.org_stance_0"
   ]
  },
  {
   "cell_type": "code",
   "execution_count": 59,
   "id": "manufactured-spectrum",
   "metadata": {},
   "outputs": [
    {
     "data": {
      "text/html": [
       "<div>\n",
       "<style scoped>\n",
       "    .dataframe tbody tr th:only-of-type {\n",
       "        vertical-align: middle;\n",
       "    }\n",
       "\n",
       "    .dataframe tbody tr th {\n",
       "        vertical-align: top;\n",
       "    }\n",
       "\n",
       "    .dataframe thead th {\n",
       "        text-align: right;\n",
       "    }\n",
       "</style>\n",
       "<table border=\"1\" class=\"dataframe\">\n",
       "  <thead>\n",
       "    <tr style=\"text-align: right;\">\n",
       "      <th></th>\n",
       "      <th>text</th>\n",
       "      <th>annotation_27</th>\n",
       "      <th>annotation_28</th>\n",
       "      <th>annotation_29</th>\n",
       "      <th>annotation_30</th>\n",
       "    </tr>\n",
       "  </thead>\n",
       "  <tbody>\n",
       "    <tr>\n",
       "      <th>0</th>\n",
       "      <td>Postpone CBSE Board Exams</td>\n",
       "      <td>unclear</td>\n",
       "      <td>pro-mitigation</td>\n",
       "      <td>unclear</td>\n",
       "      <td>unclear</td>\n",
       "    </tr>\n",
       "    <tr>\n",
       "      <th>1</th>\n",
       "      <td>Pay rise for paramedics and nurses</td>\n",
       "      <td>unclear</td>\n",
       "      <td>unclear</td>\n",
       "      <td>pro-mitigation</td>\n",
       "      <td>unclear</td>\n",
       "    </tr>\n",
       "    <tr>\n",
       "      <th>2</th>\n",
       "      <td>Too Soon To Open Georgia!</td>\n",
       "      <td>pro-mitigation</td>\n",
       "      <td>pro-mitigation</td>\n",
       "      <td>pro-mitigation</td>\n",
       "      <td>unclear</td>\n",
       "    </tr>\n",
       "    <tr>\n",
       "      <th>3</th>\n",
       "      <td>Request to reconsider DPS Ruby Park school tui...</td>\n",
       "      <td>pro-mitigation</td>\n",
       "      <td>unclear</td>\n",
       "      <td>pro-mitigation</td>\n",
       "      <td>unclear</td>\n",
       "    </tr>\n",
       "    <tr>\n",
       "      <th>4</th>\n",
       "      <td>Covid-19 Aesthetics / Salon / Massage Industry...</td>\n",
       "      <td>pro-mitigation</td>\n",
       "      <td>unclear</td>\n",
       "      <td>unclear</td>\n",
       "      <td>unclear</td>\n",
       "    </tr>\n",
       "    <tr>\n",
       "      <th>...</th>\n",
       "      <td>...</td>\n",
       "      <td>...</td>\n",
       "      <td>...</td>\n",
       "      <td>...</td>\n",
       "      <td>...</td>\n",
       "    </tr>\n",
       "    <tr>\n",
       "      <th>295</th>\n",
       "      <td>Free and voluntary COVID-19 testing for front-...</td>\n",
       "      <td>pro-mitigation</td>\n",
       "      <td>pro-mitigation</td>\n",
       "      <td>pro-mitigation</td>\n",
       "      <td>pro-mitigation</td>\n",
       "    </tr>\n",
       "    <tr>\n",
       "      <th>296</th>\n",
       "      <td>Open House Ban During Covid-19</td>\n",
       "      <td>pro-mitigation</td>\n",
       "      <td>unclear</td>\n",
       "      <td>unclear</td>\n",
       "      <td>unclear</td>\n",
       "    </tr>\n",
       "    <tr>\n",
       "      <th>297</th>\n",
       "      <td>URGENT: PROTECT OKLAHOMA'S INMATES FROM COVID-...</td>\n",
       "      <td>pro-mitigation</td>\n",
       "      <td>pro-mitigation</td>\n",
       "      <td>pro-mitigation</td>\n",
       "      <td>pro-mitigation</td>\n",
       "    </tr>\n",
       "    <tr>\n",
       "      <th>298</th>\n",
       "      <td>ALL colleges TEST OPTIONAL for Fall 2020 appli...</td>\n",
       "      <td>pro-mitigation</td>\n",
       "      <td>unclear</td>\n",
       "      <td>unclear</td>\n",
       "      <td>unclear</td>\n",
       "    </tr>\n",
       "    <tr>\n",
       "      <th>299</th>\n",
       "      <td>Postpone UPSC CSE Prelims 2020 to August '20 a...</td>\n",
       "      <td>pro-mitigation</td>\n",
       "      <td>pro-mitigation</td>\n",
       "      <td>pro-mitigation</td>\n",
       "      <td>pro-mitigation</td>\n",
       "    </tr>\n",
       "  </tbody>\n",
       "</table>\n",
       "<p>300 rows × 5 columns</p>\n",
       "</div>"
      ],
      "text/plain": [
       "                                                  text   annotation_27  \\\n",
       "0                            Postpone CBSE Board Exams         unclear   \n",
       "1                   Pay rise for paramedics and nurses         unclear   \n",
       "2                            Too Soon To Open Georgia!  pro-mitigation   \n",
       "3    Request to reconsider DPS Ruby Park school tui...  pro-mitigation   \n",
       "4    Covid-19 Aesthetics / Salon / Massage Industry...  pro-mitigation   \n",
       "..                                                 ...             ...   \n",
       "295  Free and voluntary COVID-19 testing for front-...  pro-mitigation   \n",
       "296                     Open House Ban During Covid-19  pro-mitigation   \n",
       "297  URGENT: PROTECT OKLAHOMA'S INMATES FROM COVID-...  pro-mitigation   \n",
       "298  ALL colleges TEST OPTIONAL for Fall 2020 appli...  pro-mitigation   \n",
       "299  Postpone UPSC CSE Prelims 2020 to August '20 a...  pro-mitigation   \n",
       "\n",
       "      annotation_28   annotation_29   annotation_30  \n",
       "0    pro-mitigation         unclear         unclear  \n",
       "1           unclear  pro-mitigation         unclear  \n",
       "2    pro-mitigation  pro-mitigation         unclear  \n",
       "3           unclear  pro-mitigation         unclear  \n",
       "4           unclear         unclear         unclear  \n",
       "..              ...             ...             ...  \n",
       "295  pro-mitigation  pro-mitigation  pro-mitigation  \n",
       "296         unclear         unclear         unclear  \n",
       "297  pro-mitigation  pro-mitigation  pro-mitigation  \n",
       "298         unclear         unclear         unclear  \n",
       "299  pro-mitigation  pro-mitigation  pro-mitigation  \n",
       "\n",
       "[300 rows x 5 columns]"
      ]
     },
     "execution_count": 59,
     "metadata": {},
     "output_type": "execute_result"
    }
   ],
   "source": [
    "change_org0 = pd.read_csv(\"/home/chinnu/Downloads/change.org_stance_0.csv\")\n",
    "change_org0"
   ]
  },
  {
   "cell_type": "code",
   "execution_count": 69,
   "id": "higher-wilderness",
   "metadata": {},
   "outputs": [],
   "source": [
    "df0 = change_org0.iloc[:, 1:]\n",
    "df0\n",
    "annotators = list(df0.columns)\n",
    "avg_scores0=[]\n",
    "def cohen_kappa(df, an1, an2):\n",
    "    return cohen_kappa_score(df[an1], df[an2])\n",
    "# Cohen_kappa for annotation_27\n",
    "an_27=[]\n",
    "an_27.append(cohen_kappa(df0, 'annotation_27', 'annotation_28'))\n",
    "an_27.append(cohen_kappa(df0, 'annotation_27', 'annotation_29'))\n",
    "an_27.append(cohen_kappa(df0, 'annotation_27', 'annotation_30'))\n",
    "an_27\n",
    "an_27_score = mean(an_27)\n",
    "avg_scores0.append(an_27_score)"
   ]
  },
  {
   "cell_type": "code",
   "execution_count": 70,
   "id": "unavailable-share",
   "metadata": {},
   "outputs": [
    {
     "data": {
      "text/plain": [
       "[0.51004807726357]"
      ]
     },
     "execution_count": 70,
     "metadata": {},
     "output_type": "execute_result"
    }
   ],
   "source": [
    "avg_scores0"
   ]
  },
  {
   "cell_type": "code",
   "execution_count": 80,
   "id": "tight-syndication",
   "metadata": {},
   "outputs": [],
   "source": [
    "# Cohen_kappa for annotation_28\n",
    "an_28=[]\n",
    "an_28.append(cohen_kappa(df0, 'annotation_28', 'annotation_27'))\n",
    "an_28.append(cohen_kappa(df0, 'annotation_28', 'annotation_29'))\n",
    "an_28.append(cohen_kappa(df0, 'annotation_28', 'annotation_30'))\n",
    "an_28\n",
    "an_28_score = mean(an_28)\n",
    "avg_scores0.append(an_28_score)"
   ]
  },
  {
   "cell_type": "code",
   "execution_count": 81,
   "id": "sporting-format",
   "metadata": {},
   "outputs": [],
   "source": [
    "# Cohen_kappa for annotation_29\n",
    "an_29=[]\n",
    "an_29.append(cohen_kappa(df0, 'annotation_29', 'annotation_27'))\n",
    "an_29.append(cohen_kappa(df0, 'annotation_29', 'annotation_28'))\n",
    "an_29.append(cohen_kappa(df0, 'annotation_29', 'annotation_30'))\n",
    "an_29\n",
    "an_29_score = mean(an_29)\n",
    "avg_scores0.append(an_29_score)"
   ]
  },
  {
   "cell_type": "code",
   "execution_count": 83,
   "id": "disabled-heart",
   "metadata": {},
   "outputs": [],
   "source": [
    "# Cohen_kappa for annotation_30\n",
    "an_30=[]\n",
    "an_30.append(cohen_kappa(df0, 'annotation_30', 'annotation_27'))\n",
    "an_30.append(cohen_kappa(df0, 'annotation_30', 'annotation_28'))\n",
    "an_30.append(cohen_kappa(df0, 'annotation_30', 'annotation_29'))\n",
    "an_30\n",
    "an_30_score = mean(an_30)\n",
    "avg_scores0.append(an_30_score)"
   ]
  },
  {
   "cell_type": "code",
   "execution_count": 85,
   "id": "opening-clinic",
   "metadata": {},
   "outputs": [],
   "source": [
    "# drop if < 0.2\n",
    "avg_scores0\n",
    "for a in avg_scores0:\n",
    "    if a < 0.2:\n",
    "        name = annotators[a]\n",
    "        df0.drop(name)"
   ]
  },
  {
   "cell_type": "code",
   "execution_count": 86,
   "id": "balanced-parts",
   "metadata": {},
   "outputs": [
    {
     "data": {
      "text/plain": [
       "array([['unclear', 'pro-mitigation', 'unclear', 'unclear'],\n",
       "       ['unclear', 'unclear', 'pro-mitigation', 'unclear'],\n",
       "       ['pro-mitigation', 'pro-mitigation', 'pro-mitigation', 'unclear'],\n",
       "       ...,\n",
       "       ['pro-mitigation', 'pro-mitigation', 'pro-mitigation',\n",
       "        'pro-mitigation'],\n",
       "       ['pro-mitigation', 'unclear', 'unclear', 'unclear'],\n",
       "       ['pro-mitigation', 'pro-mitigation', 'pro-mitigation',\n",
       "        'pro-mitigation']], dtype=object)"
      ]
     },
     "execution_count": 86,
     "metadata": {},
     "output_type": "execute_result"
    }
   ],
   "source": [
    "array_words0 = df0.values\n",
    "array_words0"
   ]
  },
  {
   "cell_type": "code",
   "execution_count": 88,
   "id": "personal-horror",
   "metadata": {},
   "outputs": [
    {
     "data": {
      "text/plain": [
       "'annotation_29'"
      ]
     },
     "execution_count": 88,
     "metadata": {},
     "output_type": "execute_result"
    }
   ],
   "source": [
    "cohen_kappa_max = avg_scores0\n",
    "cohen_kappa_annotators = ['annotation_27', 'annotation_28', 'annotation_29','annotation_30']\n",
    "max_cohen = max(cohen_kappa_max)\n",
    "max_cohen_index = cohen_kappa_max.index(max_cohen)\n",
    "maxer = cohen_kappa_annotators[max_cohen_index]\n",
    "maxer"
   ]
  },
  {
   "cell_type": "code",
   "execution_count": 92,
   "id": "adolescent-drink",
   "metadata": {},
   "outputs": [],
   "source": [
    "def logicc(array_words_given,df_given):\n",
    "    row_count = 0\n",
    "    fin_label=[]\n",
    "    for i in array_words_given:\n",
    "        row_count += 1\n",
    "        count_unclear=0\n",
    "        count_anti=0\n",
    "        count_pro=0\n",
    "        for j in i:\n",
    "            if j==\"unclear\":\n",
    "                count_unclear += 1\n",
    "            if j==\"pro-mitigation\":\n",
    "                count_pro += 1\n",
    "            if j==\"anti-mitigation\":\n",
    "                count_anti += 1\n",
    "        add_to_list = []\n",
    "        add_to_list.append(count_anti)# anti, unclear, pro\n",
    "        add_to_list.append(count_unclear)\n",
    "        add_to_list.append(count_pro)\n",
    "        list_of_labels=[\"anti-mitigation\", \"unclear\", \"pro-mitigation\"]\n",
    "        max_val=max(add_to_list)\n",
    "        max_ind = [m for m,n in enumerate(add_to_list) if n==max_val]\n",
    "        if len(max_ind)==1:\n",
    "            if (count_unclear > count_pro) and (count_unclear > count_anti):\n",
    "                fin_label.append(\"unclear\")\n",
    "            if (count_pro>count_anti) and (count_pro>count_unclear):\n",
    "                fin_label.append(\"pro-mitigation\")\n",
    "            if (count_anti > count_pro) and (count_anti > count_unclear):\n",
    "                fin_label.append(\"anti-mitigation\")\n",
    "    \n",
    "        elif len(max_ind)==2:\n",
    "            new_ls = []\n",
    "            for k in max_ind:\n",
    "                new_ls.append(list_of_labels[k])\n",
    "            \n",
    "            lab = df_given[maxer].iloc[row_count-1]\n",
    "            if lab in new_ls:\n",
    "                fin_label.append(lab)\n",
    "                \n",
    "        else:\n",
    "            fin_label.append('missing')\n",
    "    return fin_label"
   ]
  },
  {
   "cell_type": "code",
   "execution_count": 94,
   "id": "liked-ghana",
   "metadata": {},
   "outputs": [],
   "source": [
    "fin_label0 = logicc(array_words0, df0)"
   ]
  },
  {
   "cell_type": "code",
   "execution_count": 95,
   "id": "wired-copper",
   "metadata": {},
   "outputs": [],
   "source": [
    "final_df0 = pd.DataFrame(change_org0['text'])\n",
    "final_df0['label'] = fin_label0\n",
    "final_df0.to_csv(\"/home/chinnu/Desktop/Semester_2/NLP/Project/change.org_stance_0_final.csv\", index=False)"
   ]
  },
  {
   "cell_type": "markdown",
   "id": "weird-foster",
   "metadata": {},
   "source": [
    "### Change.org_stance2"
   ]
  },
  {
   "cell_type": "code",
   "execution_count": 96,
   "id": "discrete-deficit",
   "metadata": {},
   "outputs": [
    {
     "data": {
      "text/html": [
       "<div>\n",
       "<style scoped>\n",
       "    .dataframe tbody tr th:only-of-type {\n",
       "        vertical-align: middle;\n",
       "    }\n",
       "\n",
       "    .dataframe tbody tr th {\n",
       "        vertical-align: top;\n",
       "    }\n",
       "\n",
       "    .dataframe thead th {\n",
       "        text-align: right;\n",
       "    }\n",
       "</style>\n",
       "<table border=\"1\" class=\"dataframe\">\n",
       "  <thead>\n",
       "    <tr style=\"text-align: right;\">\n",
       "      <th></th>\n",
       "      <th>text</th>\n",
       "      <th>annotation_25</th>\n",
       "      <th>annotation_21</th>\n",
       "      <th>annotation_77</th>\n",
       "      <th>annotation_23</th>\n",
       "    </tr>\n",
       "  </thead>\n",
       "  <tbody>\n",
       "    <tr>\n",
       "      <th>0</th>\n",
       "      <td>Save Western Ghats from annihilation</td>\n",
       "      <td>unclear</td>\n",
       "      <td>unclear</td>\n",
       "      <td>unclear</td>\n",
       "      <td>unclear</td>\n",
       "    </tr>\n",
       "    <tr>\n",
       "      <th>1</th>\n",
       "      <td>Save Beacon Hill Park</td>\n",
       "      <td>unclear</td>\n",
       "      <td>unclear</td>\n",
       "      <td>unclear</td>\n",
       "      <td>anti-mitigation</td>\n",
       "    </tr>\n",
       "    <tr>\n",
       "      <th>2</th>\n",
       "      <td>Government of India: Don't Tax Medical Bills</td>\n",
       "      <td>unclear</td>\n",
       "      <td>unclear</td>\n",
       "      <td>unclear</td>\n",
       "      <td>pro-mitigation</td>\n",
       "    </tr>\n",
       "    <tr>\n",
       "      <th>3</th>\n",
       "      <td>NO FAILING @ UCR</td>\n",
       "      <td>unclear</td>\n",
       "      <td>unclear</td>\n",
       "      <td>unclear</td>\n",
       "      <td>unclear</td>\n",
       "    </tr>\n",
       "    <tr>\n",
       "      <th>4</th>\n",
       "      <td>WIAA - Let them play football!</td>\n",
       "      <td>anti-mitigation</td>\n",
       "      <td>anti-mitigation</td>\n",
       "      <td>unclear</td>\n",
       "      <td>anti-mitigation</td>\n",
       "    </tr>\n",
       "    <tr>\n",
       "      <th>...</th>\n",
       "      <td>...</td>\n",
       "      <td>...</td>\n",
       "      <td>...</td>\n",
       "      <td>...</td>\n",
       "      <td>...</td>\n",
       "    </tr>\n",
       "    <tr>\n",
       "      <th>295</th>\n",
       "      <td>Null and void the Premier League</td>\n",
       "      <td>unclear</td>\n",
       "      <td>unclear</td>\n",
       "      <td>unclear</td>\n",
       "      <td>unclear</td>\n",
       "    </tr>\n",
       "    <tr>\n",
       "      <th>296</th>\n",
       "      <td>Free public transport for NHS staff to accompa...</td>\n",
       "      <td>pro-mitigation</td>\n",
       "      <td>pro-mitigation</td>\n",
       "      <td>unclear</td>\n",
       "      <td>pro-mitigation</td>\n",
       "    </tr>\n",
       "    <tr>\n",
       "      <th>297</th>\n",
       "      <td>PM please give immediate COVID Insurance cover...</td>\n",
       "      <td>pro-mitigation</td>\n",
       "      <td>pro-mitigation</td>\n",
       "      <td>unclear</td>\n",
       "      <td>pro-mitigation</td>\n",
       "    </tr>\n",
       "    <tr>\n",
       "      <th>298</th>\n",
       "      <td>SAY NO TO OSHA PROPOSED PERMANENT RULE</td>\n",
       "      <td>unclear</td>\n",
       "      <td>anti-mitigation</td>\n",
       "      <td>unclear</td>\n",
       "      <td>unclear</td>\n",
       "    </tr>\n",
       "    <tr>\n",
       "      <th>299</th>\n",
       "      <td>(NTU) - Viewing of results before deciding to S/U</td>\n",
       "      <td>unclear</td>\n",
       "      <td>unclear</td>\n",
       "      <td>unclear</td>\n",
       "      <td>unclear</td>\n",
       "    </tr>\n",
       "  </tbody>\n",
       "</table>\n",
       "<p>300 rows × 5 columns</p>\n",
       "</div>"
      ],
      "text/plain": [
       "                                                  text    annotation_25  \\\n",
       "0                 Save Western Ghats from annihilation          unclear   \n",
       "1                                Save Beacon Hill Park          unclear   \n",
       "2         Government of India: Don't Tax Medical Bills          unclear   \n",
       "3                                     NO FAILING @ UCR          unclear   \n",
       "4                       WIAA - Let them play football!  anti-mitigation   \n",
       "..                                                 ...              ...   \n",
       "295                   Null and void the Premier League          unclear   \n",
       "296  Free public transport for NHS staff to accompa...   pro-mitigation   \n",
       "297  PM please give immediate COVID Insurance cover...   pro-mitigation   \n",
       "298             SAY NO TO OSHA PROPOSED PERMANENT RULE          unclear   \n",
       "299  (NTU) - Viewing of results before deciding to S/U          unclear   \n",
       "\n",
       "       annotation_21 annotation_77    annotation_23  \n",
       "0            unclear       unclear          unclear  \n",
       "1            unclear       unclear  anti-mitigation  \n",
       "2            unclear       unclear   pro-mitigation  \n",
       "3            unclear       unclear          unclear  \n",
       "4    anti-mitigation       unclear  anti-mitigation  \n",
       "..               ...           ...              ...  \n",
       "295          unclear       unclear          unclear  \n",
       "296   pro-mitigation       unclear   pro-mitigation  \n",
       "297   pro-mitigation       unclear   pro-mitigation  \n",
       "298  anti-mitigation       unclear          unclear  \n",
       "299          unclear       unclear          unclear  \n",
       "\n",
       "[300 rows x 5 columns]"
      ]
     },
     "execution_count": 96,
     "metadata": {},
     "output_type": "execute_result"
    }
   ],
   "source": [
    "change_org2 = pd.read_csv(\"/home/chinnu/Downloads/change.org_stance_2.csv\")\n",
    "change_org2"
   ]
  },
  {
   "cell_type": "code",
   "execution_count": 98,
   "id": "small-shipping",
   "metadata": {},
   "outputs": [
    {
     "data": {
      "text/plain": [
       "[0.46220924609581937]"
      ]
     },
     "execution_count": 98,
     "metadata": {},
     "output_type": "execute_result"
    }
   ],
   "source": [
    "df2 = change_org2.iloc[:, 1:]\n",
    "df2\n",
    "annotators = list(df2.columns)\n",
    "avg_scores2=[]\n",
    "def cohen_kappa(df, an1, an2):\n",
    "    return cohen_kappa_score(df[an1], df[an2])\n",
    "# Cohen_kappa for annotation_25\n",
    "an_25=[]\n",
    "an_25.append(cohen_kappa(df2, 'annotation_25', 'annotation_21'))\n",
    "an_25.append(cohen_kappa(df2, 'annotation_25', 'annotation_77'))\n",
    "an_25.append(cohen_kappa(df2, 'annotation_25', 'annotation_23'))\n",
    "an_25\n",
    "an_25_score = mean(an_25)\n",
    "avg_scores2.append(an_25_score)\n",
    "avg_scores2"
   ]
  },
  {
   "cell_type": "code",
   "execution_count": 100,
   "id": "broadband-basketball",
   "metadata": {},
   "outputs": [
    {
     "data": {
      "text/plain": [
       "[0.46220924609581937, 0.48819729078792623]"
      ]
     },
     "execution_count": 100,
     "metadata": {},
     "output_type": "execute_result"
    }
   ],
   "source": [
    "# Cohen_kappa for annotation_21\n",
    "an_21=[]\n",
    "an_21.append(cohen_kappa(df2, 'annotation_21', 'annotation_25'))\n",
    "an_21.append(cohen_kappa(df2, 'annotation_21', 'annotation_77'))\n",
    "an_21.append(cohen_kappa(df2, 'annotation_21', 'annotation_23'))\n",
    "an_21\n",
    "an_21_score = mean(an_21)\n",
    "avg_scores2.append(an_21_score)\n",
    "avg_scores2"
   ]
  },
  {
   "cell_type": "code",
   "execution_count": 101,
   "id": "monthly-forge",
   "metadata": {},
   "outputs": [
    {
     "data": {
      "text/plain": [
       "[0.46220924609581937, 0.48819729078792623, 0.48593444320858237]"
      ]
     },
     "execution_count": 101,
     "metadata": {},
     "output_type": "execute_result"
    }
   ],
   "source": [
    "# Cohen_kappa for annotation_77\n",
    "an_77=[]\n",
    "an_77.append(cohen_kappa(df2, 'annotation_77', 'annotation_25'))\n",
    "an_77.append(cohen_kappa(df2, 'annotation_77', 'annotation_21'))\n",
    "an_77.append(cohen_kappa(df2, 'annotation_77', 'annotation_23'))\n",
    "an_77\n",
    "an_77_score = mean(an_77)\n",
    "avg_scores2.append(an_77_score)\n",
    "avg_scores2"
   ]
  },
  {
   "cell_type": "code",
   "execution_count": 102,
   "id": "alleged-raise",
   "metadata": {},
   "outputs": [
    {
     "data": {
      "text/plain": [
       "[0.46220924609581937,\n",
       " 0.48819729078792623,\n",
       " 0.48593444320858237,\n",
       " 0.4658046911097747]"
      ]
     },
     "execution_count": 102,
     "metadata": {},
     "output_type": "execute_result"
    }
   ],
   "source": [
    "# Cohen_kappa for annotation_23\n",
    "an_23=[]\n",
    "an_23.append(cohen_kappa(df2, 'annotation_23', 'annotation_25'))\n",
    "an_23.append(cohen_kappa(df2, 'annotation_23', 'annotation_21'))\n",
    "an_23.append(cohen_kappa(df2, 'annotation_23', 'annotation_77'))\n",
    "an_23\n",
    "an_23_score = mean(an_23)\n",
    "avg_scores2.append(an_23_score)\n",
    "avg_scores2"
   ]
  },
  {
   "cell_type": "code",
   "execution_count": 103,
   "id": "advance-jenny",
   "metadata": {},
   "outputs": [],
   "source": [
    "# drop if < 0.2\n",
    "avg_scores2\n",
    "for b in avg_scores2:\n",
    "    if b < 0.2:\n",
    "        name = annotators[b]\n",
    "        df2.drop(name)"
   ]
  },
  {
   "cell_type": "code",
   "execution_count": 104,
   "id": "varying-access",
   "metadata": {},
   "outputs": [
    {
     "data": {
      "text/plain": [
       "array([['unclear', 'unclear', 'unclear', 'unclear'],\n",
       "       ['unclear', 'unclear', 'unclear', 'anti-mitigation'],\n",
       "       ['unclear', 'unclear', 'unclear', 'pro-mitigation'],\n",
       "       ...,\n",
       "       ['pro-mitigation', 'pro-mitigation', 'unclear', 'pro-mitigation'],\n",
       "       ['unclear', 'anti-mitigation', 'unclear', 'unclear'],\n",
       "       ['unclear', 'unclear', 'unclear', 'unclear']], dtype=object)"
      ]
     },
     "execution_count": 104,
     "metadata": {},
     "output_type": "execute_result"
    }
   ],
   "source": [
    "array_words2 = df2.values\n",
    "array_words2"
   ]
  },
  {
   "cell_type": "code",
   "execution_count": 105,
   "id": "functional-railway",
   "metadata": {},
   "outputs": [
    {
     "data": {
      "text/plain": [
       "'annotation_21'"
      ]
     },
     "execution_count": 105,
     "metadata": {},
     "output_type": "execute_result"
    }
   ],
   "source": [
    "cohen_kappa_max = avg_scores2\n",
    "cohen_kappa_annotators = ['annotation_25', 'annotation_21', 'annotation_77','annotation_23']\n",
    "max_cohen = max(cohen_kappa_max)\n",
    "max_cohen_index = cohen_kappa_max.index(max_cohen)\n",
    "maxer = cohen_kappa_annotators[max_cohen_index]\n",
    "maxer"
   ]
  },
  {
   "cell_type": "code",
   "execution_count": 106,
   "id": "quality-monroe",
   "metadata": {},
   "outputs": [],
   "source": [
    "fin_label2=logicc(array_words2, df2) # Logic function written above which is part 2 logic"
   ]
  },
  {
   "cell_type": "code",
   "execution_count": 107,
   "id": "hearing-triangle",
   "metadata": {},
   "outputs": [],
   "source": [
    "final_df2 = pd.DataFrame(change_org2['text'])\n",
    "final_df2['label'] = fin_label2\n",
    "final_df2.to_csv(\"/home/chinnu/Desktop/Semester_2/NLP/Project/change.org_stance_2_final.csv\", index=False)"
   ]
  },
  {
   "cell_type": "markdown",
   "id": "streaming-international",
   "metadata": {},
   "source": [
    "### Change.org_stance3"
   ]
  },
  {
   "cell_type": "code",
   "execution_count": 108,
   "id": "respected-backup",
   "metadata": {},
   "outputs": [
    {
     "data": {
      "text/html": [
       "<div>\n",
       "<style scoped>\n",
       "    .dataframe tbody tr th:only-of-type {\n",
       "        vertical-align: middle;\n",
       "    }\n",
       "\n",
       "    .dataframe tbody tr th {\n",
       "        vertical-align: top;\n",
       "    }\n",
       "\n",
       "    .dataframe thead th {\n",
       "        text-align: right;\n",
       "    }\n",
       "</style>\n",
       "<table border=\"1\" class=\"dataframe\">\n",
       "  <thead>\n",
       "    <tr style=\"text-align: right;\">\n",
       "      <th></th>\n",
       "      <th>text</th>\n",
       "      <th>annotation_88</th>\n",
       "      <th>annotation_89</th>\n",
       "      <th>annotation_90</th>\n",
       "      <th>annotation_92</th>\n",
       "    </tr>\n",
       "  </thead>\n",
       "  <tbody>\n",
       "    <tr>\n",
       "      <th>0</th>\n",
       "      <td>Language Education in the Time of COVID-19</td>\n",
       "      <td>unclear</td>\n",
       "      <td>anti-mitigation</td>\n",
       "      <td>unclear</td>\n",
       "      <td>pro-mitigation</td>\n",
       "    </tr>\n",
       "    <tr>\n",
       "      <th>1</th>\n",
       "      <td>COVID-19 Test Kits</td>\n",
       "      <td>unclear</td>\n",
       "      <td>unclear</td>\n",
       "      <td>pro-mitigation</td>\n",
       "      <td>pro-mitigation</td>\n",
       "    </tr>\n",
       "    <tr>\n",
       "      <th>2</th>\n",
       "      <td>COVID 19 IN PRISON</td>\n",
       "      <td>unclear</td>\n",
       "      <td>unclear</td>\n",
       "      <td>unclear</td>\n",
       "      <td>unclear</td>\n",
       "    </tr>\n",
       "    <tr>\n",
       "      <th>3</th>\n",
       "      <td>Get Waled Home</td>\n",
       "      <td>unclear</td>\n",
       "      <td>unclear</td>\n",
       "      <td>pro-mitigation</td>\n",
       "      <td>unclear</td>\n",
       "    </tr>\n",
       "    <tr>\n",
       "      <th>4</th>\n",
       "      <td>Make pass/fail available for Mississippi State...</td>\n",
       "      <td>unclear</td>\n",
       "      <td>pro-mitigation</td>\n",
       "      <td>unclear</td>\n",
       "      <td>pro-mitigation</td>\n",
       "    </tr>\n",
       "    <tr>\n",
       "      <th>...</th>\n",
       "      <td>...</td>\n",
       "      <td>...</td>\n",
       "      <td>...</td>\n",
       "      <td>...</td>\n",
       "      <td>...</td>\n",
       "    </tr>\n",
       "    <tr>\n",
       "      <th>295</th>\n",
       "      <td>Cancellation of Lebanese Official Exams for 20...</td>\n",
       "      <td>unclear</td>\n",
       "      <td>pro-mitigation</td>\n",
       "      <td>pro-mitigation</td>\n",
       "      <td>pro-mitigation</td>\n",
       "    </tr>\n",
       "    <tr>\n",
       "      <th>296</th>\n",
       "      <td>Hazard pay for essential employees working wit...</td>\n",
       "      <td>pro-mitigation</td>\n",
       "      <td>pro-mitigation</td>\n",
       "      <td>pro-mitigation</td>\n",
       "      <td>pro-mitigation</td>\n",
       "    </tr>\n",
       "    <tr>\n",
       "      <th>297</th>\n",
       "      <td>Stop children being weighed in school without ...</td>\n",
       "      <td>unclear</td>\n",
       "      <td>unclear</td>\n",
       "      <td>unclear</td>\n",
       "      <td>unclear</td>\n",
       "    </tr>\n",
       "    <tr>\n",
       "      <th>298</th>\n",
       "      <td>Allow Visitors for Covid-19 Patients</td>\n",
       "      <td>anti-mitigation</td>\n",
       "      <td>anti-mitigation</td>\n",
       "      <td>anti-mitigation</td>\n",
       "      <td>anti-mitigation</td>\n",
       "    </tr>\n",
       "    <tr>\n",
       "      <th>299</th>\n",
       "      <td>Exigimos acciones de control y salud en la Res...</td>\n",
       "      <td>pro-mitigation</td>\n",
       "      <td>pro-mitigation</td>\n",
       "      <td>pro-mitigation</td>\n",
       "      <td>pro-mitigation</td>\n",
       "    </tr>\n",
       "  </tbody>\n",
       "</table>\n",
       "<p>300 rows × 5 columns</p>\n",
       "</div>"
      ],
      "text/plain": [
       "                                                  text    annotation_88  \\\n",
       "0           Language Education in the Time of COVID-19          unclear   \n",
       "1                                   COVID-19 Test Kits          unclear   \n",
       "2                                   COVID 19 IN PRISON          unclear   \n",
       "3                                       Get Waled Home          unclear   \n",
       "4    Make pass/fail available for Mississippi State...          unclear   \n",
       "..                                                 ...              ...   \n",
       "295  Cancellation of Lebanese Official Exams for 20...          unclear   \n",
       "296  Hazard pay for essential employees working wit...   pro-mitigation   \n",
       "297  Stop children being weighed in school without ...          unclear   \n",
       "298               Allow Visitors for Covid-19 Patients  anti-mitigation   \n",
       "299  Exigimos acciones de control y salud en la Res...   pro-mitigation   \n",
       "\n",
       "       annotation_89    annotation_90    annotation_92  \n",
       "0    anti-mitigation          unclear   pro-mitigation  \n",
       "1            unclear   pro-mitigation   pro-mitigation  \n",
       "2            unclear          unclear          unclear  \n",
       "3            unclear   pro-mitigation          unclear  \n",
       "4     pro-mitigation          unclear   pro-mitigation  \n",
       "..               ...              ...              ...  \n",
       "295   pro-mitigation   pro-mitigation   pro-mitigation  \n",
       "296   pro-mitigation   pro-mitigation   pro-mitigation  \n",
       "297          unclear          unclear          unclear  \n",
       "298  anti-mitigation  anti-mitigation  anti-mitigation  \n",
       "299   pro-mitigation   pro-mitigation   pro-mitigation  \n",
       "\n",
       "[300 rows x 5 columns]"
      ]
     },
     "execution_count": 108,
     "metadata": {},
     "output_type": "execute_result"
    }
   ],
   "source": [
    "change_org3 = pd.read_csv(\"/home/chinnu/Downloads/change.org_stance_3.csv\")\n",
    "change_org3"
   ]
  },
  {
   "cell_type": "code",
   "execution_count": 109,
   "id": "answering-implement",
   "metadata": {},
   "outputs": [
    {
     "data": {
      "text/plain": [
       "[0.4362554356685326]"
      ]
     },
     "execution_count": 109,
     "metadata": {},
     "output_type": "execute_result"
    }
   ],
   "source": [
    "df3 = change_org3.iloc[:, 1:]\n",
    "df3\n",
    "annotators = list(df3.columns)\n",
    "avg_scores3=[]\n",
    "def cohen_kappa(df, an1, an2):\n",
    "    return cohen_kappa_score(df[an1], df[an2])\n",
    "# Cohen_kappa for annotation_88\n",
    "an_88=[]\n",
    "an_88.append(cohen_kappa(df3, 'annotation_88', 'annotation_89'))\n",
    "an_88.append(cohen_kappa(df3, 'annotation_88', 'annotation_90'))\n",
    "an_88.append(cohen_kappa(df3, 'annotation_88', 'annotation_92'))\n",
    "an_88\n",
    "an_88_score = mean(an_88)\n",
    "avg_scores3.append(an_88_score)\n",
    "avg_scores3"
   ]
  },
  {
   "cell_type": "code",
   "execution_count": 110,
   "id": "excess-google",
   "metadata": {},
   "outputs": [
    {
     "data": {
      "text/plain": [
       "[0.4362554356685326, 0.389752435773522]"
      ]
     },
     "execution_count": 110,
     "metadata": {},
     "output_type": "execute_result"
    }
   ],
   "source": [
    "# Cohen_kappa for annotation_89\n",
    "an_89=[]\n",
    "an_89.append(cohen_kappa(df3, 'annotation_89', 'annotation_88'))\n",
    "an_89.append(cohen_kappa(df3, 'annotation_89', 'annotation_90'))\n",
    "an_89.append(cohen_kappa(df3, 'annotation_89', 'annotation_92'))\n",
    "an_89\n",
    "an_89_score = mean(an_89)\n",
    "avg_scores3.append(an_89_score)\n",
    "avg_scores3"
   ]
  },
  {
   "cell_type": "code",
   "execution_count": 111,
   "id": "disciplinary-payroll",
   "metadata": {},
   "outputs": [
    {
     "data": {
      "text/plain": [
       "[0.4362554356685326, 0.389752435773522, 0.41126480831651707]"
      ]
     },
     "execution_count": 111,
     "metadata": {},
     "output_type": "execute_result"
    }
   ],
   "source": [
    "# Cohen_kappa for annotation_90\n",
    "an_90=[]\n",
    "an_90.append(cohen_kappa(df3, 'annotation_90', 'annotation_88'))\n",
    "an_90.append(cohen_kappa(df3, 'annotation_90', 'annotation_89'))\n",
    "an_90.append(cohen_kappa(df3, 'annotation_90', 'annotation_92'))\n",
    "an_90\n",
    "an_90_score = mean(an_90)\n",
    "avg_scores3.append(an_90_score)\n",
    "avg_scores3"
   ]
  },
  {
   "cell_type": "code",
   "execution_count": 112,
   "id": "bronze-protocol",
   "metadata": {},
   "outputs": [
    {
     "data": {
      "text/plain": [
       "[0.4362554356685326,\n",
       " 0.389752435773522,\n",
       " 0.41126480831651707,\n",
       " 0.4340609744049141]"
      ]
     },
     "execution_count": 112,
     "metadata": {},
     "output_type": "execute_result"
    }
   ],
   "source": [
    "# Cohen_kappa for annotation_92\n",
    "an_92=[]\n",
    "an_92.append(cohen_kappa(df3, 'annotation_92', 'annotation_88'))\n",
    "an_92.append(cohen_kappa(df3, 'annotation_92', 'annotation_89'))\n",
    "an_92.append(cohen_kappa(df3, 'annotation_92', 'annotation_90'))\n",
    "an_92\n",
    "an_92_score = mean(an_92)\n",
    "avg_scores3.append(an_92_score)\n",
    "avg_scores3"
   ]
  },
  {
   "cell_type": "code",
   "execution_count": 113,
   "id": "dated-texture",
   "metadata": {},
   "outputs": [],
   "source": [
    "# drop if < 0.2\n",
    "avg_scores3\n",
    "for c in avg_scores3:\n",
    "    if c < 0.2:\n",
    "        name = annotators[c]\n",
    "        df3.drop(name)"
   ]
  },
  {
   "cell_type": "code",
   "execution_count": 114,
   "id": "enhanced-cable",
   "metadata": {},
   "outputs": [
    {
     "data": {
      "text/plain": [
       "array([['unclear', 'anti-mitigation', 'unclear', 'pro-mitigation'],\n",
       "       ['unclear', 'unclear', 'pro-mitigation', 'pro-mitigation'],\n",
       "       ['unclear', 'unclear', 'unclear', 'unclear'],\n",
       "       ...,\n",
       "       ['unclear', 'unclear', 'unclear', 'unclear'],\n",
       "       ['anti-mitigation', 'anti-mitigation', 'anti-mitigation',\n",
       "        'anti-mitigation'],\n",
       "       ['pro-mitigation', 'pro-mitigation', 'pro-mitigation',\n",
       "        'pro-mitigation']], dtype=object)"
      ]
     },
     "execution_count": 114,
     "metadata": {},
     "output_type": "execute_result"
    }
   ],
   "source": [
    "array_words3 = df3.values\n",
    "array_words3"
   ]
  },
  {
   "cell_type": "code",
   "execution_count": 115,
   "id": "global-polls",
   "metadata": {},
   "outputs": [
    {
     "data": {
      "text/plain": [
       "'annotation_88'"
      ]
     },
     "execution_count": 115,
     "metadata": {},
     "output_type": "execute_result"
    }
   ],
   "source": [
    "cohen_kappa_max = avg_scores3\n",
    "cohen_kappa_annotators = ['annotation_88', 'annotation_89', 'annotation_90','annotation_92']\n",
    "max_cohen = max(cohen_kappa_max)\n",
    "max_cohen_index = cohen_kappa_max.index(max_cohen)\n",
    "maxer = cohen_kappa_annotators[max_cohen_index]\n",
    "maxer"
   ]
  },
  {
   "cell_type": "code",
   "execution_count": 116,
   "id": "religious-increase",
   "metadata": {},
   "outputs": [],
   "source": [
    "fin_label3=logicc(array_words3, df3) # Logic function written above which is part 2 logic"
   ]
  },
  {
   "cell_type": "code",
   "execution_count": 117,
   "id": "exempt-korean",
   "metadata": {},
   "outputs": [],
   "source": [
    "final_df3 = pd.DataFrame(change_org3['text'])\n",
    "final_df3['label'] = fin_label3\n",
    "final_df3.to_csv(\"/home/chinnu/Desktop/Semester_2/NLP/Project/change.org_stance_3_final.csv\", index=False)"
   ]
  },
  {
   "cell_type": "markdown",
   "id": "recovered-machinery",
   "metadata": {},
   "source": [
    "### Change.org_stance1"
   ]
  },
  {
   "cell_type": "code",
   "execution_count": 127,
   "id": "weighted-monster",
   "metadata": {},
   "outputs": [
    {
     "data": {
      "text/html": [
       "<div>\n",
       "<style scoped>\n",
       "    .dataframe tbody tr th:only-of-type {\n",
       "        vertical-align: middle;\n",
       "    }\n",
       "\n",
       "    .dataframe tbody tr th {\n",
       "        vertical-align: top;\n",
       "    }\n",
       "\n",
       "    .dataframe thead th {\n",
       "        text-align: right;\n",
       "    }\n",
       "</style>\n",
       "<table border=\"1\" class=\"dataframe\">\n",
       "  <thead>\n",
       "    <tr style=\"text-align: right;\">\n",
       "      <th></th>\n",
       "      <th>text</th>\n",
       "      <th>annotation_70</th>\n",
       "      <th>annotation_72</th>\n",
       "      <th>annotation_80</th>\n",
       "      <th>annotation_79</th>\n",
       "    </tr>\n",
       "  </thead>\n",
       "  <tbody>\n",
       "    <tr>\n",
       "      <th>0</th>\n",
       "      <td>COVID-19 Awards</td>\n",
       "      <td>unclear</td>\n",
       "      <td>pro-mitigation</td>\n",
       "      <td>pro-mitigation</td>\n",
       "      <td>pro-mitigation</td>\n",
       "    </tr>\n",
       "    <tr>\n",
       "      <th>1</th>\n",
       "      <td>Cancel the 2020-2021 school year SOLs</td>\n",
       "      <td>pro-mitigation</td>\n",
       "      <td>unclear</td>\n",
       "      <td>pro-mitigation</td>\n",
       "      <td>pro-mitigation</td>\n",
       "    </tr>\n",
       "    <tr>\n",
       "      <th>2</th>\n",
       "      <td>..</td>\n",
       "      <td>unclear</td>\n",
       "      <td>unclear</td>\n",
       "      <td>unclear</td>\n",
       "      <td>unclear</td>\n",
       "    </tr>\n",
       "    <tr>\n",
       "      <th>3</th>\n",
       "      <td>Protect our nurses!</td>\n",
       "      <td>unclear</td>\n",
       "      <td>pro-mitigation</td>\n",
       "      <td>pro-mitigation</td>\n",
       "      <td>pro-mitigation</td>\n",
       "    </tr>\n",
       "    <tr>\n",
       "      <th>4</th>\n",
       "      <td>SENSELESS IMPRISONMENT FOR MY MOM.. FIRST TIME...</td>\n",
       "      <td>unclear</td>\n",
       "      <td>unclear</td>\n",
       "      <td>anti-mitigation</td>\n",
       "      <td>unclear</td>\n",
       "    </tr>\n",
       "    <tr>\n",
       "      <th>...</th>\n",
       "      <td>...</td>\n",
       "      <td>...</td>\n",
       "      <td>...</td>\n",
       "      <td>...</td>\n",
       "      <td>...</td>\n",
       "    </tr>\n",
       "    <tr>\n",
       "      <th>295</th>\n",
       "      <td>Don't let new immigrants fall through the crac...</td>\n",
       "      <td>unclear</td>\n",
       "      <td>unclear</td>\n",
       "      <td>pro-mitigation</td>\n",
       "      <td>unclear</td>\n",
       "    </tr>\n",
       "    <tr>\n",
       "      <th>296</th>\n",
       "      <td>Protect our TWU community from COVID-19 by sus...</td>\n",
       "      <td>pro-mitigation</td>\n",
       "      <td>pro-mitigation</td>\n",
       "      <td>pro-mitigation</td>\n",
       "      <td>pro-mitigation</td>\n",
       "    </tr>\n",
       "    <tr>\n",
       "      <th>297</th>\n",
       "      <td>Urgent Action Needed: Strengthen Ethnic Studie...</td>\n",
       "      <td>unclear</td>\n",
       "      <td>unclear</td>\n",
       "      <td>unclear</td>\n",
       "      <td>unclear</td>\n",
       "    </tr>\n",
       "    <tr>\n",
       "      <th>298</th>\n",
       "      <td>No More Live Markets - make the difference</td>\n",
       "      <td>unclear</td>\n",
       "      <td>unclear</td>\n",
       "      <td>unclear</td>\n",
       "      <td>pro-mitigation</td>\n",
       "    </tr>\n",
       "    <tr>\n",
       "      <th>299</th>\n",
       "      <td>SAVE THE NORTHCOTE PUBLIC GOLF COURSE</td>\n",
       "      <td>unclear</td>\n",
       "      <td>unclear</td>\n",
       "      <td>unclear</td>\n",
       "      <td>anti-mitigation</td>\n",
       "    </tr>\n",
       "  </tbody>\n",
       "</table>\n",
       "<p>300 rows × 5 columns</p>\n",
       "</div>"
      ],
      "text/plain": [
       "                                                  text   annotation_70  \\\n",
       "0                                      COVID-19 Awards         unclear   \n",
       "1                Cancel the 2020-2021 school year SOLs  pro-mitigation   \n",
       "2                                                   ..         unclear   \n",
       "3                                  Protect our nurses!         unclear   \n",
       "4    SENSELESS IMPRISONMENT FOR MY MOM.. FIRST TIME...         unclear   \n",
       "..                                                 ...             ...   \n",
       "295  Don't let new immigrants fall through the crac...         unclear   \n",
       "296  Protect our TWU community from COVID-19 by sus...  pro-mitigation   \n",
       "297  Urgent Action Needed: Strengthen Ethnic Studie...         unclear   \n",
       "298         No More Live Markets - make the difference         unclear   \n",
       "299              SAVE THE NORTHCOTE PUBLIC GOLF COURSE         unclear   \n",
       "\n",
       "      annotation_72    annotation_80    annotation_79  \n",
       "0    pro-mitigation   pro-mitigation   pro-mitigation  \n",
       "1           unclear   pro-mitigation   pro-mitigation  \n",
       "2           unclear          unclear          unclear  \n",
       "3    pro-mitigation   pro-mitigation   pro-mitigation  \n",
       "4           unclear  anti-mitigation          unclear  \n",
       "..              ...              ...              ...  \n",
       "295         unclear   pro-mitigation          unclear  \n",
       "296  pro-mitigation   pro-mitigation   pro-mitigation  \n",
       "297         unclear          unclear          unclear  \n",
       "298         unclear          unclear   pro-mitigation  \n",
       "299         unclear          unclear  anti-mitigation  \n",
       "\n",
       "[300 rows x 5 columns]"
      ]
     },
     "execution_count": 127,
     "metadata": {},
     "output_type": "execute_result"
    }
   ],
   "source": [
    "change_org1 = pd.read_csv(\"/home/chinnu/Downloads/change.org_stance_1.csv\")\n",
    "change_org1"
   ]
  },
  {
   "cell_type": "code",
   "execution_count": 128,
   "id": "accepting-canada",
   "metadata": {},
   "outputs": [
    {
     "data": {
      "text/plain": [
       "[0.5019507617543313]"
      ]
     },
     "execution_count": 128,
     "metadata": {},
     "output_type": "execute_result"
    }
   ],
   "source": [
    "df01 = change_org1.iloc[:, 1:]\n",
    "df01\n",
    "annotators = list(df01.columns)\n",
    "avg_scores1=[]\n",
    "def cohen_kappa(df, an1, an2):\n",
    "    return cohen_kappa_score(df[an1], df[an2])\n",
    "# Cohen_kappa for annotation_70\n",
    "an_70=[]\n",
    "an_70.append(cohen_kappa(df01, 'annotation_70', 'annotation_72'))\n",
    "an_70.append(cohen_kappa(df01, 'annotation_70', 'annotation_80'))\n",
    "an_70.append(cohen_kappa(df01, 'annotation_70', 'annotation_79'))\n",
    "an_70\n",
    "an_70_score = mean(an_70)\n",
    "avg_scores1.append(an_70_score)\n",
    "avg_scores1"
   ]
  },
  {
   "cell_type": "code",
   "execution_count": 129,
   "id": "precise-sacrifice",
   "metadata": {},
   "outputs": [
    {
     "data": {
      "text/plain": [
       "[0.5019507617543313, 0.5564314317707975]"
      ]
     },
     "execution_count": 129,
     "metadata": {},
     "output_type": "execute_result"
    }
   ],
   "source": [
    "# Cohen_kappa for annotation_72\n",
    "an_72=[]\n",
    "an_72.append(cohen_kappa(df01, 'annotation_72', 'annotation_70'))\n",
    "an_72.append(cohen_kappa(df01, 'annotation_72', 'annotation_80'))\n",
    "an_72.append(cohen_kappa(df01, 'annotation_72', 'annotation_79'))\n",
    "an_72\n",
    "an_72_score = mean(an_72)\n",
    "avg_scores1.append(an_72_score)\n",
    "avg_scores1"
   ]
  },
  {
   "cell_type": "code",
   "execution_count": 130,
   "id": "ongoing-lafayette",
   "metadata": {},
   "outputs": [
    {
     "data": {
      "text/plain": [
       "[0.5019507617543313, 0.5564314317707975, 0.43100363984627327]"
      ]
     },
     "execution_count": 130,
     "metadata": {},
     "output_type": "execute_result"
    }
   ],
   "source": [
    "# Cohen_kappa for annotation_80\n",
    "an_80=[]\n",
    "an_80.append(cohen_kappa(df01, 'annotation_80', 'annotation_70'))\n",
    "an_80.append(cohen_kappa(df01, 'annotation_80', 'annotation_72'))\n",
    "an_80.append(cohen_kappa(df01, 'annotation_80', 'annotation_79'))\n",
    "an_80\n",
    "an_80_score = mean(an_80)\n",
    "avg_scores1.append(an_80_score)\n",
    "avg_scores1"
   ]
  },
  {
   "cell_type": "code",
   "execution_count": 131,
   "id": "touched-respect",
   "metadata": {},
   "outputs": [
    {
     "data": {
      "text/plain": [
       "[0.5019507617543313,\n",
       " 0.5564314317707975,\n",
       " 0.43100363984627327,\n",
       " 0.49594767000033196]"
      ]
     },
     "execution_count": 131,
     "metadata": {},
     "output_type": "execute_result"
    }
   ],
   "source": [
    "# Cohen_kappa for annotation_79\n",
    "an_79=[]\n",
    "an_79.append(cohen_kappa(df01, 'annotation_79', 'annotation_70'))\n",
    "an_79.append(cohen_kappa(df01, 'annotation_79', 'annotation_72'))\n",
    "an_79.append(cohen_kappa(df01, 'annotation_79', 'annotation_80'))\n",
    "an_79\n",
    "an_79_score = mean(an_79)\n",
    "avg_scores1.append(an_79_score)\n",
    "avg_scores1"
   ]
  },
  {
   "cell_type": "code",
   "execution_count": 132,
   "id": "artificial-template",
   "metadata": {},
   "outputs": [],
   "source": [
    "# drop if < 0.2\n",
    "avg_scores1\n",
    "for e in avg_scores1:\n",
    "    if e < 0.2:\n",
    "        name = annotators[e]\n",
    "        df01.drop(name)"
   ]
  },
  {
   "cell_type": "code",
   "execution_count": 133,
   "id": "pleased-approach",
   "metadata": {},
   "outputs": [
    {
     "data": {
      "text/plain": [
       "array([['unclear', 'pro-mitigation', 'pro-mitigation', 'pro-mitigation'],\n",
       "       ['pro-mitigation', 'unclear', 'pro-mitigation', 'pro-mitigation'],\n",
       "       ['unclear', 'unclear', 'unclear', 'unclear'],\n",
       "       ...,\n",
       "       ['unclear', 'unclear', 'unclear', 'unclear'],\n",
       "       ['unclear', 'unclear', 'unclear', 'pro-mitigation'],\n",
       "       ['unclear', 'unclear', 'unclear', 'anti-mitigation']], dtype=object)"
      ]
     },
     "execution_count": 133,
     "metadata": {},
     "output_type": "execute_result"
    }
   ],
   "source": [
    "array_words1 = df01.values\n",
    "array_words1"
   ]
  },
  {
   "cell_type": "code",
   "execution_count": 134,
   "id": "federal-drinking",
   "metadata": {},
   "outputs": [
    {
     "data": {
      "text/plain": [
       "'annotation_72'"
      ]
     },
     "execution_count": 134,
     "metadata": {},
     "output_type": "execute_result"
    }
   ],
   "source": [
    "cohen_kappa_max = avg_scores1\n",
    "cohen_kappa_annotators = ['annotation_70', 'annotation_72', 'annotation_80','annotation_79']\n",
    "max_cohen = max(cohen_kappa_max)\n",
    "max_cohen_index = cohen_kappa_max.index(max_cohen)\n",
    "maxer = cohen_kappa_annotators[max_cohen_index]\n",
    "maxer"
   ]
  },
  {
   "cell_type": "code",
   "execution_count": 135,
   "id": "framed-remains",
   "metadata": {},
   "outputs": [],
   "source": [
    "fin_label1=logicc(array_words1, df01) # Logic function written above which is part 2 logic"
   ]
  },
  {
   "cell_type": "code",
   "execution_count": 136,
   "id": "romance-travel",
   "metadata": {},
   "outputs": [],
   "source": [
    "final_df01 = pd.DataFrame(change_org1['text'])\n",
    "final_df01['label'] = fin_label1\n",
    "final_df01.to_csv(\"/home/chinnu/Desktop/Semester_2/NLP/Project/change.org_stance_1_final.csv\", index=False)"
   ]
  },
  {
   "cell_type": "markdown",
   "id": "simple-stability",
   "metadata": {},
   "source": [
    "### Appending all stances "
   ]
  },
  {
   "cell_type": "code",
   "execution_count": 139,
   "id": "green-suite",
   "metadata": {},
   "outputs": [],
   "source": [
    "final_csv = final_df0.append([final_df01, final_df2, final_df3, final_df], ignore_index=True)"
   ]
  },
  {
   "cell_type": "code",
   "execution_count": 141,
   "id": "handy-recipient",
   "metadata": {},
   "outputs": [],
   "source": [
    "final_csv.to_csv(\"/home/chinnu/Desktop/Semester_2/NLP/Project/final_label_changeorg.csv\", index=False)"
   ]
  },
  {
   "cell_type": "code",
   "execution_count": 142,
   "id": "former-cartridge",
   "metadata": {},
   "outputs": [
    {
     "data": {
      "text/html": [
       "<div>\n",
       "<style scoped>\n",
       "    .dataframe tbody tr th:only-of-type {\n",
       "        vertical-align: middle;\n",
       "    }\n",
       "\n",
       "    .dataframe tbody tr th {\n",
       "        vertical-align: top;\n",
       "    }\n",
       "\n",
       "    .dataframe thead th {\n",
       "        text-align: right;\n",
       "    }\n",
       "</style>\n",
       "<table border=\"1\" class=\"dataframe\">\n",
       "  <thead>\n",
       "    <tr style=\"text-align: right;\">\n",
       "      <th></th>\n",
       "      <th>text</th>\n",
       "      <th>label</th>\n",
       "    </tr>\n",
       "  </thead>\n",
       "  <tbody>\n",
       "    <tr>\n",
       "      <th>0</th>\n",
       "      <td>Postpone CBSE Board Exams</td>\n",
       "      <td>unclear</td>\n",
       "    </tr>\n",
       "    <tr>\n",
       "      <th>1</th>\n",
       "      <td>Pay rise for paramedics and nurses</td>\n",
       "      <td>unclear</td>\n",
       "    </tr>\n",
       "    <tr>\n",
       "      <th>2</th>\n",
       "      <td>Too Soon To Open Georgia!</td>\n",
       "      <td>pro-mitigation</td>\n",
       "    </tr>\n",
       "    <tr>\n",
       "      <th>3</th>\n",
       "      <td>Request to reconsider DPS Ruby Park school tui...</td>\n",
       "      <td>pro-mitigation</td>\n",
       "    </tr>\n",
       "    <tr>\n",
       "      <th>4</th>\n",
       "      <td>Covid-19 Aesthetics / Salon / Massage Industry...</td>\n",
       "      <td>unclear</td>\n",
       "    </tr>\n",
       "    <tr>\n",
       "      <th>...</th>\n",
       "      <td>...</td>\n",
       "      <td>...</td>\n",
       "    </tr>\n",
       "    <tr>\n",
       "      <th>1495</th>\n",
       "      <td>Cover Covid19 Exposed or Contracted Longshore ...</td>\n",
       "      <td>pro-mitigation</td>\n",
       "    </tr>\n",
       "    <tr>\n",
       "      <th>1496</th>\n",
       "      <td>SAY NO to using the Wyndham, Fresh Meadows to ...</td>\n",
       "      <td>unclear</td>\n",
       "    </tr>\n",
       "    <tr>\n",
       "      <th>1497</th>\n",
       "      <td>Postpone VTU exams</td>\n",
       "      <td>pro-mitigation</td>\n",
       "    </tr>\n",
       "    <tr>\n",
       "      <th>1498</th>\n",
       "      <td>Help convince Inslee and WIAA to allow HS spri...</td>\n",
       "      <td>anti-mitigation</td>\n",
       "    </tr>\n",
       "    <tr>\n",
       "      <th>1499</th>\n",
       "      <td>NZTR: Shifting the two Guineas Group One races...</td>\n",
       "      <td>unclear</td>\n",
       "    </tr>\n",
       "  </tbody>\n",
       "</table>\n",
       "<p>1500 rows × 2 columns</p>\n",
       "</div>"
      ],
      "text/plain": [
       "                                                   text            label\n",
       "0                             Postpone CBSE Board Exams          unclear\n",
       "1                    Pay rise for paramedics and nurses          unclear\n",
       "2                             Too Soon To Open Georgia!   pro-mitigation\n",
       "3     Request to reconsider DPS Ruby Park school tui...   pro-mitigation\n",
       "4     Covid-19 Aesthetics / Salon / Massage Industry...          unclear\n",
       "...                                                 ...              ...\n",
       "1495  Cover Covid19 Exposed or Contracted Longshore ...   pro-mitigation\n",
       "1496  SAY NO to using the Wyndham, Fresh Meadows to ...          unclear\n",
       "1497                                 Postpone VTU exams   pro-mitigation\n",
       "1498  Help convince Inslee and WIAA to allow HS spri...  anti-mitigation\n",
       "1499  NZTR: Shifting the two Guineas Group One races...          unclear\n",
       "\n",
       "[1500 rows x 2 columns]"
      ]
     },
     "execution_count": 142,
     "metadata": {},
     "output_type": "execute_result"
    }
   ],
   "source": [
    "final_csv"
   ]
  },
  {
   "cell_type": "markdown",
   "id": "loose-theme",
   "metadata": {},
   "source": [
    "### The End"
   ]
  },
  {
   "cell_type": "code",
   "execution_count": null,
   "id": "acceptable-orientation",
   "metadata": {},
   "outputs": [],
   "source": []
  }
 ],
 "metadata": {
  "kernelspec": {
   "display_name": "Python 3",
   "language": "python",
   "name": "python3"
  },
  "language_info": {
   "codemirror_mode": {
    "name": "ipython",
    "version": 3
   },
   "file_extension": ".py",
   "mimetype": "text/x-python",
   "name": "python",
   "nbconvert_exporter": "python",
   "pygments_lexer": "ipython3",
   "version": "3.8.5"
  }
 },
 "nbformat": 4,
 "nbformat_minor": 5
}
