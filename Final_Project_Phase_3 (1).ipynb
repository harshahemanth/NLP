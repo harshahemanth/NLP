{
 "cells": [
  {
   "cell_type": "markdown",
   "id": "extra-michael",
   "metadata": {},
   "source": [
    "# PROJECT PHASE - 3 MODELING"
   ]
  },
  {
   "cell_type": "code",
   "execution_count": 356,
   "id": "adapted-sunrise",
   "metadata": {},
   "outputs": [],
   "source": [
    "# Import Libraries\n",
    "import pandas as pd \n",
    "from sklearn.model_selection import train_test_split\n",
    "import numpy as np\n",
    "from sklearn.feature_extraction.text import CountVectorizer\n",
    "from sklearn.naive_bayes import MultinomialNB\n",
    "from sklearn.feature_extraction.text import TfidfTransformer\n",
    "from sklearn import metrics\n",
    "from sklearn.utils.multiclass import unique_labels\n",
    "from sklearn.metrics import confusion_matrix\n",
    "import seaborn as sns\n",
    "import matplotlib.pyplot as plt\n",
    "from sklearn.utils.multiclass import unique_labels\n",
    "from sklearn.ensemble import RandomForestClassifier\n",
    "from sklearn.metrics import precision_recall_fscore_support as score\n",
    "import nltk\n",
    "import re\n",
    "from nltk.corpus import stopwords\n",
    "from nltk.stem import PorterStemmer\n",
    "from sklearn.metrics import accuracy_score\n",
    "from sklearn.linear_model import LogisticRegression"
   ]
  },
  {
   "cell_type": "code",
   "execution_count": 357,
   "id": "north-immunology",
   "metadata": {},
   "outputs": [],
   "source": [
    "# Load Data\n",
    "\n",
    "primary_df = pd.read_csv(\"/home/chinnu/Desktop/Semester_2/NLP/Project/ProjectAssignment2 Notebook/final_label_changeorg.csv\")\n",
    "secondary_df = pd.read_csv(\"/home/chinnu/Desktop/Semester_2/NLP/Project/ProjectAssignment2 Notebook/final_label_NY_stance.csv\")"
   ]
  },
  {
   "cell_type": "code",
   "execution_count": 358,
   "id": "mighty-midwest",
   "metadata": {},
   "outputs": [
    {
     "data": {
      "text/html": [
       "<div>\n",
       "<style scoped>\n",
       "    .dataframe tbody tr th:only-of-type {\n",
       "        vertical-align: middle;\n",
       "    }\n",
       "\n",
       "    .dataframe tbody tr th {\n",
       "        vertical-align: top;\n",
       "    }\n",
       "\n",
       "    .dataframe thead th {\n",
       "        text-align: right;\n",
       "    }\n",
       "</style>\n",
       "<table border=\"1\" class=\"dataframe\">\n",
       "  <thead>\n",
       "    <tr style=\"text-align: right;\">\n",
       "      <th></th>\n",
       "      <th>text</th>\n",
       "      <th>label</th>\n",
       "    </tr>\n",
       "  </thead>\n",
       "  <tbody>\n",
       "    <tr>\n",
       "      <th>0</th>\n",
       "      <td>Postpone CBSE Board Exams</td>\n",
       "      <td>unclear</td>\n",
       "    </tr>\n",
       "    <tr>\n",
       "      <th>1</th>\n",
       "      <td>Pay rise for paramedics and nurses</td>\n",
       "      <td>unclear</td>\n",
       "    </tr>\n",
       "    <tr>\n",
       "      <th>2</th>\n",
       "      <td>Too Soon To Open Georgia!</td>\n",
       "      <td>pro-mitigation</td>\n",
       "    </tr>\n",
       "    <tr>\n",
       "      <th>3</th>\n",
       "      <td>Request to reconsider DPS Ruby Park school tui...</td>\n",
       "      <td>pro-mitigation</td>\n",
       "    </tr>\n",
       "    <tr>\n",
       "      <th>4</th>\n",
       "      <td>Covid-19 Aesthetics / Salon / Massage Industry...</td>\n",
       "      <td>unclear</td>\n",
       "    </tr>\n",
       "  </tbody>\n",
       "</table>\n",
       "</div>"
      ],
      "text/plain": [
       "                                                text           label\n",
       "0                          Postpone CBSE Board Exams         unclear\n",
       "1                 Pay rise for paramedics and nurses         unclear\n",
       "2                          Too Soon To Open Georgia!  pro-mitigation\n",
       "3  Request to reconsider DPS Ruby Park school tui...  pro-mitigation\n",
       "4  Covid-19 Aesthetics / Salon / Massage Industry...         unclear"
      ]
     },
     "execution_count": 358,
     "metadata": {},
     "output_type": "execute_result"
    }
   ],
   "source": [
    "primary_df.head()"
   ]
  },
  {
   "cell_type": "code",
   "execution_count": 359,
   "id": "regulated-robert",
   "metadata": {},
   "outputs": [],
   "source": [
    "primary_df_train_set, primary_test_set = train_test_split(primary_df, test_size=0.3, shuffle=True, random_state=1234)"
   ]
  },
  {
   "cell_type": "code",
   "execution_count": 360,
   "id": "exotic-value",
   "metadata": {},
   "outputs": [
    {
     "data": {
      "text/plain": [
       "(450, 2)"
      ]
     },
     "execution_count": 360,
     "metadata": {},
     "output_type": "execute_result"
    }
   ],
   "source": [
    "primary_df_train_set.shape\n",
    "primary_test_set.shape"
   ]
  },
  {
   "cell_type": "code",
   "execution_count": 361,
   "id": "regular-construction",
   "metadata": {},
   "outputs": [],
   "source": [
    "categoriess = ['anti-mitigation', 'pro-mitigation', 'unclear']\n",
    "primary_df_list = primary_df_train_set[\"text\"]"
   ]
  },
  {
   "cell_type": "code",
   "execution_count": 362,
   "id": "eleven-criterion",
   "metadata": {},
   "outputs": [
    {
     "data": {
      "text/plain": [
       "(1050, 2890)"
      ]
     },
     "execution_count": 362,
     "metadata": {},
     "output_type": "execute_result"
    }
   ],
   "source": [
    "count_vect = CountVectorizer()\n",
    "X_train_counts = count_vect.fit_transform(primary_df_list, primary_df_train_set['label'])\n",
    "X_train_counts.shape"
   ]
  },
  {
   "cell_type": "code",
   "execution_count": 363,
   "id": "attempted-singing",
   "metadata": {},
   "outputs": [
    {
     "data": {
      "text/plain": [
       "966"
      ]
     },
     "execution_count": 363,
     "metadata": {},
     "output_type": "execute_result"
    }
   ],
   "source": [
    "count_vect.vocabulary_.get(u'fee')"
   ]
  },
  {
   "cell_type": "markdown",
   "id": "later-shadow",
   "metadata": {},
   "source": [
    "#### Multinomial Fit"
   ]
  },
  {
   "cell_type": "code",
   "execution_count": 364,
   "id": "sufficient-transmission",
   "metadata": {},
   "outputs": [
    {
     "name": "stdout",
     "output_type": "stream",
     "text": [
      "                 precision    recall  f1-score   support\n",
      "\n",
      "anti-mitigation       0.60      0.14      0.23        43\n",
      " pro-mitigation       0.61      0.72      0.66       187\n",
      "        unclear       0.66      0.66      0.66       220\n",
      "\n",
      "       accuracy                           0.63       450\n",
      "      macro avg       0.62      0.51      0.51       450\n",
      "   weighted avg       0.63      0.63      0.62       450\n",
      "\n"
     ]
    }
   ],
   "source": [
    "clf = MultinomialNB().fit(X_train_counts, primary_df_train_set[\"label\"])\n",
    "X_new_counts = count_vect.transform(primary_test_set[\"text\"])\n",
    "predicted = clf.predict(X_new_counts)\n",
    "print(metrics.classification_report(primary_test_set['label'], predicted, target_names=unique_labels(primary_df['label'])))"
   ]
  },
  {
   "cell_type": "markdown",
   "id": "existing-integration",
   "metadata": {},
   "source": [
    "#### Accuracy Measure for MultinomialNB Prediction on primary test set is 0.63"
   ]
  },
  {
   "cell_type": "code",
   "execution_count": 365,
   "id": "textile-idaho",
   "metadata": {},
   "outputs": [
    {
     "data": {
      "text/plain": [
       "Text(91.68, 0.5, 'PRED')"
      ]
     },
     "execution_count": 365,
     "metadata": {},
     "output_type": "execute_result"
    },
    {
     "data": {
      "image/png": "[encoded data removed]",
      "text/plain": [
       "<Figure size 432x288 with 1 Axes>"
      ]
     },
     "metadata": {
      "needs_background": "light"
     },
     "output_type": "display_data"
    }
   ],
   "source": [
    "mat=confusion_matrix(primary_test_set['label'],predicted)\n",
    "sns.heatmap(mat.T,square=True,annot=True,fmt='d',cbar=False,xticklabels=unique_labels(primary_df[\"label\"]),yticklabels=unique_labels(primary_df[\"label\"]))\n",
    "plt.xlabel('T')\n",
    "plt.ylabel('PRED')"
   ]
  },
  {
   "cell_type": "markdown",
   "id": "heard-flash",
   "metadata": {},
   "source": [
    "#### Prediction on Secondary Data (Entirely Test Set)"
   ]
  },
  {
   "cell_type": "code",
   "execution_count": 366,
   "id": "flush-ordinance",
   "metadata": {},
   "outputs": [
    {
     "data": {
      "text/plain": [
       "0.3948339483394834"
      ]
     },
     "execution_count": 366,
     "metadata": {},
     "output_type": "execute_result"
    }
   ],
   "source": [
    "X_new_counts_secondary = count_vect.transform(secondary_df[\"text\"])\n",
    "predictedSecondaryTest = clf.predict(X_new_counts_secondary)\n",
    "accuracy_score(secondary_df['label'], predictedSecondaryTest)"
   ]
  },
  {
   "cell_type": "markdown",
   "id": "moral-mounting",
   "metadata": {},
   "source": [
    "#### Accuracy Measure for MultinomialNB Prediction on secondary test set is 0.39"
   ]
  },
  {
   "cell_type": "markdown",
   "id": "increasing-large",
   "metadata": {},
   "source": [
    "#### Using Logistic Regression, for the same "
   ]
  },
  {
   "cell_type": "code",
   "execution_count": 367,
   "id": "sublime-trinity",
   "metadata": {},
   "outputs": [],
   "source": [
    "lr_model = LogisticRegression(penalty=\"none\", \n",
    "                              multi_class=\"multinomial\",\n",
    "                              solver=\"lbfgs\").fit(X_train_counts, primary_df_train_set[\"label\"])\n",
    "y_hat_lr_test = lr_model.predict(X_new_counts)"
   ]
  },
  {
   "cell_type": "code",
   "execution_count": 368,
   "id": "greenhouse-westminster",
   "metadata": {},
   "outputs": [
    {
     "name": "stdout",
     "output_type": "stream",
     "text": [
      "                 precision    recall  f1-score   support\n",
      "\n",
      "anti-mitigation       0.43      0.35      0.38        43\n",
      " pro-mitigation       0.68      0.63      0.66       187\n",
      "        unclear       0.66      0.72      0.69       220\n",
      "\n",
      "       accuracy                           0.65       450\n",
      "      macro avg       0.59      0.57      0.58       450\n",
      "   weighted avg       0.65      0.65      0.65       450\n",
      "\n"
     ]
    }
   ],
   "source": [
    "print(metrics.classification_report(primary_test_set['label'], y_hat_lr_test, \n",
    "                            target_names=unique_labels(primary_df['label'])))"
   ]
  },
  {
   "cell_type": "markdown",
   "id": "under-patent",
   "metadata": {},
   "source": [
    "#### Accuracy for Logistic Regression is found to be 0.65 (higher than for MultinomialNB) On the primary Test Set"
   ]
  },
  {
   "cell_type": "code",
   "execution_count": 369,
   "id": "indonesian-container",
   "metadata": {},
   "outputs": [
    {
     "name": "stdout",
     "output_type": "stream",
     "text": [
      "                 precision    recall  f1-score   support\n",
      "\n",
      "anti-mitigation       0.10      0.11      0.11        79\n",
      " pro-mitigation       0.64      0.54      0.58       475\n",
      "        unclear       0.39      0.49      0.43       259\n",
      "\n",
      "       accuracy                           0.48       813\n",
      "      macro avg       0.38      0.38      0.37       813\n",
      "   weighted avg       0.51      0.48      0.49       813\n",
      "\n"
     ]
    }
   ],
   "source": [
    "y_hat_lr_test_second = lr_model.predict(X_new_counts_secondary)\n",
    "print(metrics.classification_report(secondary_df['label'], y_hat_lr_test_second, \n",
    "                            target_names=unique_labels(primary_df['label'])))"
   ]
  },
  {
   "cell_type": "markdown",
   "id": "julian-luxury",
   "metadata": {},
   "source": [
    "#### Accuracy for Logistic Regression is 0.48 (while in Multinomial was only 0.39) on the secondary set"
   ]
  },
  {
   "cell_type": "markdown",
   "id": "visible-justice",
   "metadata": {},
   "source": [
    "### \n",
    "### Feature Engineering \n",
    "### "
   ]
  },
  {
   "cell_type": "code",
   "execution_count": 370,
   "id": "standing-albert",
   "metadata": {},
   "outputs": [
    {
     "name": "stderr",
     "output_type": "stream",
     "text": [
      "[nltk_data] Downloading package stopwords to /home/chinnu/nltk_data...\n",
      "[nltk_data]   Package stopwords is already up-to-date!\n"
     ]
    }
   ],
   "source": [
    "# Adding Word Count, Character Count, Average Word Length and Stemming \n",
    "primary_df['word_count'] = primary_df[\"text\"].apply(lambda x: len(str(x).split(\" \")))\n",
    "primary_df['char_count'] = primary_df[\"text\"].apply(lambda x: sum(len(word) for word in str(x).split(\" \")))\n",
    "primary_df['avg_word_length'] = primary_df['char_count'] / primary_df['word_count']\n",
    "porter = PorterStemmer()\n",
    "nltk.download('stopwords')\n",
    "sent_words=stopwords.words('english')\n",
    "primary_df['stem']=primary_df['text'].apply(lambda x:\" \".join([porter.stem(i) for i in re.sub(\"[^a-zA-Z]\",\" \",x).split() if i not in sent_words]).lower())"
   ]
  },
  {
   "cell_type": "code",
   "execution_count": 371,
   "id": "juvenile-victorian",
   "metadata": {},
   "outputs": [
    {
     "data": {
      "text/html": [
       "<div>\n",
       "<style scoped>\n",
       "    .dataframe tbody tr th:only-of-type {\n",
       "        vertical-align: middle;\n",
       "    }\n",
       "\n",
       "    .dataframe tbody tr th {\n",
       "        vertical-align: top;\n",
       "    }\n",
       "\n",
       "    .dataframe thead th {\n",
       "        text-align: right;\n",
       "    }\n",
       "</style>\n",
       "<table border=\"1\" class=\"dataframe\">\n",
       "  <thead>\n",
       "    <tr style=\"text-align: right;\">\n",
       "      <th></th>\n",
       "      <th>text</th>\n",
       "      <th>label</th>\n",
       "      <th>word_count</th>\n",
       "      <th>char_count</th>\n",
       "      <th>avg_word_length</th>\n",
       "      <th>stem</th>\n",
       "    </tr>\n",
       "  </thead>\n",
       "  <tbody>\n",
       "    <tr>\n",
       "      <th>0</th>\n",
       "      <td>Postpone CBSE Board Exams</td>\n",
       "      <td>unclear</td>\n",
       "      <td>4</td>\n",
       "      <td>22</td>\n",
       "      <td>5.500000</td>\n",
       "      <td>postpon cbse board exam</td>\n",
       "    </tr>\n",
       "    <tr>\n",
       "      <th>1</th>\n",
       "      <td>Pay rise for paramedics and nurses</td>\n",
       "      <td>unclear</td>\n",
       "      <td>6</td>\n",
       "      <td>29</td>\n",
       "      <td>4.833333</td>\n",
       "      <td>pay rise paramed nurs</td>\n",
       "    </tr>\n",
       "    <tr>\n",
       "      <th>2</th>\n",
       "      <td>Too Soon To Open Georgia!</td>\n",
       "      <td>pro-mitigation</td>\n",
       "      <td>5</td>\n",
       "      <td>21</td>\n",
       "      <td>4.200000</td>\n",
       "      <td>too soon to open georgia</td>\n",
       "    </tr>\n",
       "    <tr>\n",
       "      <th>3</th>\n",
       "      <td>Request to reconsider DPS Ruby Park school tui...</td>\n",
       "      <td>pro-mitigation</td>\n",
       "      <td>13</td>\n",
       "      <td>70</td>\n",
       "      <td>5.384615</td>\n",
       "      <td>request reconsid dp rubi park school tuition t...</td>\n",
       "    </tr>\n",
       "    <tr>\n",
       "      <th>4</th>\n",
       "      <td>Covid-19 Aesthetics / Salon / Massage Industry...</td>\n",
       "      <td>unclear</td>\n",
       "      <td>11</td>\n",
       "      <td>62</td>\n",
       "      <td>5.636364</td>\n",
       "      <td>covid aesthet salon massag industri warn econo...</td>\n",
       "    </tr>\n",
       "  </tbody>\n",
       "</table>\n",
       "</div>"
      ],
      "text/plain": [
       "                                                text           label  \\\n",
       "0                          Postpone CBSE Board Exams         unclear   \n",
       "1                 Pay rise for paramedics and nurses         unclear   \n",
       "2                          Too Soon To Open Georgia!  pro-mitigation   \n",
       "3  Request to reconsider DPS Ruby Park school tui...  pro-mitigation   \n",
       "4  Covid-19 Aesthetics / Salon / Massage Industry...         unclear   \n",
       "\n",
       "   word_count  char_count  avg_word_length  \\\n",
       "0           4          22         5.500000   \n",
       "1           6          29         4.833333   \n",
       "2           5          21         4.200000   \n",
       "3          13          70         5.384615   \n",
       "4          11          62         5.636364   \n",
       "\n",
       "                                                stem  \n",
       "0                            postpon cbse board exam  \n",
       "1                              pay rise paramed nurs  \n",
       "2                           too soon to open georgia  \n",
       "3  request reconsid dp rubi park school tuition t...  \n",
       "4  covid aesthet salon massag industri warn econo...  "
      ]
     },
     "execution_count": 371,
     "metadata": {},
     "output_type": "execute_result"
    }
   ],
   "source": [
    "primary_df.head()"
   ]
  },
  {
   "cell_type": "code",
   "execution_count": 372,
   "id": "resistant-heather",
   "metadata": {},
   "outputs": [
    {
     "name": "stdout",
     "output_type": "stream",
     "text": [
      "covid\n"
     ]
    }
   ],
   "source": [
    "# New Feature Covid\n",
    "empty_dict = {}\n",
    "ls = []\n",
    "for i in primary_df.stem:\n",
    "    ls.append(i)\n",
    "for i in ls:\n",
    "    for j in i.split(\" \"):\n",
    "        if j not in empty_dict:\n",
    "            empty_dict[j] = 1\n",
    "        else:\n",
    "            empty_dict[j] += 1\n",
    "from collections import OrderedDict\n",
    "v = {k: v for k, v in sorted(empty_dict.items(), key=lambda item: item[1])}\n",
    "sorted(v.values(), reverse=True)\n",
    "for a,b in v.items():\n",
    "    if b == 712:\n",
    "        print(a)\n",
    "\n",
    "new_ls = []\n",
    "for i in primary_df.stem:\n",
    "    if 'covid' in i:\n",
    "        new_ls.append(True)\n",
    "    else:\n",
    "        new_ls.append(False)\n",
    "primary_df['is_covid_present'] = new_ls\n"
   ]
  },
  {
   "cell_type": "code",
   "execution_count": 373,
   "id": "caroline-sudan",
   "metadata": {},
   "outputs": [],
   "source": [
    "# Creating a feature to see if char_count is greater than mean of column or not \n",
    "mean_char_count = primary_df['char_count'].mean()\n",
    "char_ls = []\n",
    "for i in primary_df.char_count:\n",
    "    if i < mean_char_count:\n",
    "        char_ls.append(False)\n",
    "    else:\n",
    "        char_ls.append(True)\n",
    "primary_df['avg_char_greaterthanmean'] = char_ls\n",
    "\n",
    "# Creating a feature to see if char_count is greater than mean of column or not \n",
    "mean_avg_wl = primary_df['avg_word_length'].mean()\n",
    "mean_avg_wl_ls = []\n",
    "for j in primary_df.avg_word_length:\n",
    "    if j < mean_avg_wl:\n",
    "        mean_avg_wl_ls.append(False)\n",
    "    else:\n",
    "        mean_avg_wl_ls.append(True)\n",
    "primary_df['mean_avg_wl'] = mean_avg_wl_ls"
   ]
  },
  {
   "cell_type": "markdown",
   "id": "missing-balance",
   "metadata": {},
   "source": [
    "#### Added new features "
   ]
  },
  {
   "cell_type": "markdown",
   "id": "provincial-laundry",
   "metadata": {},
   "source": [
    "#### Covid is a highly occuring term so if a string 'covid' occurs in the data, then it is labelled as True else False\n",
    "#### Adding this feature to the primary set\n",
    "\n",
    "#### If char_count is greater than mean of char_count column taking as True else False\n",
    "#### Adding this feature as well and same goes with mean_avg_wl which is True if avg word length is higher than mean of column else false"
   ]
  },
  {
   "cell_type": "code",
   "execution_count": 374,
   "id": "exterior-stopping",
   "metadata": {},
   "outputs": [
    {
     "data": {
      "text/html": [
       "<div>\n",
       "<style scoped>\n",
       "    .dataframe tbody tr th:only-of-type {\n",
       "        vertical-align: middle;\n",
       "    }\n",
       "\n",
       "    .dataframe tbody tr th {\n",
       "        vertical-align: top;\n",
       "    }\n",
       "\n",
       "    .dataframe thead th {\n",
       "        text-align: right;\n",
       "    }\n",
       "</style>\n",
       "<table border=\"1\" class=\"dataframe\">\n",
       "  <thead>\n",
       "    <tr style=\"text-align: right;\">\n",
       "      <th></th>\n",
       "      <th>text</th>\n",
       "      <th>label</th>\n",
       "      <th>word_count</th>\n",
       "      <th>char_count</th>\n",
       "      <th>avg_word_length</th>\n",
       "      <th>stem</th>\n",
       "      <th>is_covid_present</th>\n",
       "      <th>avg_char_greaterthanmean</th>\n",
       "      <th>mean_avg_wl</th>\n",
       "    </tr>\n",
       "  </thead>\n",
       "  <tbody>\n",
       "    <tr>\n",
       "      <th>0</th>\n",
       "      <td>Postpone CBSE Board Exams</td>\n",
       "      <td>unclear</td>\n",
       "      <td>4</td>\n",
       "      <td>22</td>\n",
       "      <td>5.500000</td>\n",
       "      <td>postpon cbse board exam</td>\n",
       "      <td>False</td>\n",
       "      <td>False</td>\n",
       "      <td>False</td>\n",
       "    </tr>\n",
       "    <tr>\n",
       "      <th>1</th>\n",
       "      <td>Pay rise for paramedics and nurses</td>\n",
       "      <td>unclear</td>\n",
       "      <td>6</td>\n",
       "      <td>29</td>\n",
       "      <td>4.833333</td>\n",
       "      <td>pay rise paramed nurs</td>\n",
       "      <td>False</td>\n",
       "      <td>False</td>\n",
       "      <td>False</td>\n",
       "    </tr>\n",
       "    <tr>\n",
       "      <th>2</th>\n",
       "      <td>Too Soon To Open Georgia!</td>\n",
       "      <td>pro-mitigation</td>\n",
       "      <td>5</td>\n",
       "      <td>21</td>\n",
       "      <td>4.200000</td>\n",
       "      <td>too soon to open georgia</td>\n",
       "      <td>False</td>\n",
       "      <td>False</td>\n",
       "      <td>False</td>\n",
       "    </tr>\n",
       "    <tr>\n",
       "      <th>3</th>\n",
       "      <td>Request to reconsider DPS Ruby Park school tui...</td>\n",
       "      <td>pro-mitigation</td>\n",
       "      <td>13</td>\n",
       "      <td>70</td>\n",
       "      <td>5.384615</td>\n",
       "      <td>request reconsid dp rubi park school tuition t...</td>\n",
       "      <td>True</td>\n",
       "      <td>True</td>\n",
       "      <td>False</td>\n",
       "    </tr>\n",
       "    <tr>\n",
       "      <th>4</th>\n",
       "      <td>Covid-19 Aesthetics / Salon / Massage Industry...</td>\n",
       "      <td>unclear</td>\n",
       "      <td>11</td>\n",
       "      <td>62</td>\n",
       "      <td>5.636364</td>\n",
       "      <td>covid aesthet salon massag industri warn econo...</td>\n",
       "      <td>True</td>\n",
       "      <td>True</td>\n",
       "      <td>False</td>\n",
       "    </tr>\n",
       "  </tbody>\n",
       "</table>\n",
       "</div>"
      ],
      "text/plain": [
       "                                                text           label  \\\n",
       "0                          Postpone CBSE Board Exams         unclear   \n",
       "1                 Pay rise for paramedics and nurses         unclear   \n",
       "2                          Too Soon To Open Georgia!  pro-mitigation   \n",
       "3  Request to reconsider DPS Ruby Park school tui...  pro-mitigation   \n",
       "4  Covid-19 Aesthetics / Salon / Massage Industry...         unclear   \n",
       "\n",
       "   word_count  char_count  avg_word_length  \\\n",
       "0           4          22         5.500000   \n",
       "1           6          29         4.833333   \n",
       "2           5          21         4.200000   \n",
       "3          13          70         5.384615   \n",
       "4          11          62         5.636364   \n",
       "\n",
       "                                                stem  is_covid_present  \\\n",
       "0                            postpon cbse board exam             False   \n",
       "1                              pay rise paramed nurs             False   \n",
       "2                           too soon to open georgia             False   \n",
       "3  request reconsid dp rubi park school tuition t...              True   \n",
       "4  covid aesthet salon massag industri warn econo...              True   \n",
       "\n",
       "   avg_char_greaterthanmean  mean_avg_wl  \n",
       "0                     False        False  \n",
       "1                     False        False  \n",
       "2                     False        False  \n",
       "3                      True        False  \n",
       "4                      True        False  "
      ]
     },
     "execution_count": 374,
     "metadata": {},
     "output_type": "execute_result"
    }
   ],
   "source": [
    "primary_df.head()"
   ]
  },
  {
   "cell_type": "code",
   "execution_count": 375,
   "id": "after-religion",
   "metadata": {},
   "outputs": [],
   "source": [
    "primary_df_train_set_fn, primary_test_set_fn = train_test_split(primary_df, test_size=0.3, shuffle=True, random_state=1234)"
   ]
  },
  {
   "cell_type": "code",
   "execution_count": 376,
   "id": "interpreted-cheat",
   "metadata": {},
   "outputs": [],
   "source": [
    "covid_feature = primary_df_train_set_fn['is_covid_present'].astype(int)\n",
    "# word_count_feature = primary_df_train_set_fn['word_count']\n",
    "char_count_feature = primary_df_train_set_fn['avg_char_greaterthanmean'].astype(int)\n",
    "avg_wl_feature = primary_df_train_set_fn['mean_avg_wl'].astype(int)"
   ]
  },
  {
   "cell_type": "code",
   "execution_count": null,
   "id": "german-leave",
   "metadata": {},
   "outputs": [],
   "source": []
  },
  {
   "cell_type": "code",
   "execution_count": 377,
   "id": "conventional-hacker",
   "metadata": {},
   "outputs": [
    {
     "data": {
      "text/plain": [
       "(1050, 2893)"
      ]
     },
     "execution_count": 377,
     "metadata": {},
     "output_type": "execute_result"
    }
   ],
   "source": [
    "primary_df_train_set_fn=primary_df_train_set_fn[['text','word_count','char_count','avg_word_length', 'stem', 'is_covid_present', 'label']]\n",
    "inp_varn = primary_df_train_set_fn.iloc[:, :6]\n",
    "X_train_counts_fn = count_vect.fit_transform(inp_varn['text'], primary_df_train_set_fn['label'])\n",
    "# X_train_final = np.insert(X_train_counts_fn.todense(), X_train_counts_fn.shape[1], covid_feature, axis=1)\n",
    "X_train_final = np.insert(X_train_counts_fn.todense(), X_train_counts_fn.shape[1], [covid_feature, char_count_feature, avg_wl_feature], axis=1)\n",
    "X_train_final.shape"
   ]
  },
  {
   "cell_type": "code",
   "execution_count": 378,
   "id": "opposite-insured",
   "metadata": {},
   "outputs": [
    {
     "name": "stdout",
     "output_type": "stream",
     "text": [
      "<class 'pandas.core.series.Series'>\n"
     ]
    }
   ],
   "source": [
    "covid_feature_test = primary_test_set_fn['is_covid_present'].astype(int)\n",
    "# word_count_feature_test = primary_test_set_fn['word_count']\n",
    "char_count_feature_test = primary_test_set_fn['avg_char_greaterthanmean'].astype(int)\n",
    "mean_avg_wl_feature_test = primary_test_set_fn['mean_avg_wl'].astype(int)\n",
    "print(type(word_count_feature_test))\n",
    "X_new_count_fn = count_vect.transform(primary_test_set_fn['text'])\n",
    "X_new_count_fn_final = np.insert(X_new_count_fn.todense(), X_new_count_fn.shape[1], [covid_feature_test, char_count_feature_test, mean_avg_wl_feature_test], axis=1)"
   ]
  },
  {
   "cell_type": "code",
   "execution_count": 379,
   "id": "indirect-catch",
   "metadata": {},
   "outputs": [
    {
     "name": "stdout",
     "output_type": "stream",
     "text": [
      "                 precision    recall  f1-score   support\n",
      "\n",
      "anti-mitigation       0.56      0.12      0.19        43\n",
      " pro-mitigation       0.62      0.73      0.67       187\n",
      "        unclear       0.67      0.67      0.67       220\n",
      "\n",
      "       accuracy                           0.64       450\n",
      "      macro avg       0.61      0.51      0.51       450\n",
      "   weighted avg       0.64      0.64      0.62       450\n",
      "\n"
     ]
    }
   ],
   "source": [
    "clf_feat = MultinomialNB().fit(X_train_final, primary_df_train_set_fn[\"label\"])\n",
    "predicted_on_feat = clf_feat.predict(X_new_count_fn_final)\n",
    "print(metrics.classification_report(primary_test_set_fn['label'], predicted_on_feat, target_names=unique_labels(primary_df['label'])))"
   ]
  },
  {
   "cell_type": "markdown",
   "id": "streaming-rolling",
   "metadata": {},
   "source": [
    "#### Accuracy on primary after adding features is increased to 0.64 (0.63 without features)"
   ]
  },
  {
   "cell_type": "markdown",
   "id": "indie-twelve",
   "metadata": {},
   "source": [
    "#### Now testing on secondary"
   ]
  },
  {
   "cell_type": "code",
   "execution_count": 382,
   "id": "metropolitan-genetics",
   "metadata": {},
   "outputs": [
    {
     "name": "stderr",
     "output_type": "stream",
     "text": [
      "[nltk_data] Downloading package stopwords to /home/chinnu/nltk_data...\n",
      "[nltk_data]   Package stopwords is already up-to-date!\n"
     ]
    },
    {
     "data": {
      "text/html": [
       "<div>\n",
       "<style scoped>\n",
       "    .dataframe tbody tr th:only-of-type {\n",
       "        vertical-align: middle;\n",
       "    }\n",
       "\n",
       "    .dataframe tbody tr th {\n",
       "        vertical-align: top;\n",
       "    }\n",
       "\n",
       "    .dataframe thead th {\n",
       "        text-align: right;\n",
       "    }\n",
       "</style>\n",
       "<table border=\"1\" class=\"dataframe\">\n",
       "  <thead>\n",
       "    <tr style=\"text-align: right;\">\n",
       "      <th></th>\n",
       "      <th>text</th>\n",
       "      <th>label</th>\n",
       "      <th>word_count</th>\n",
       "      <th>char_count</th>\n",
       "      <th>avg_word_length</th>\n",
       "      <th>stem</th>\n",
       "      <th>is_covid_present</th>\n",
       "      <th>avg_char_greaterthanmean</th>\n",
       "      <th>mean_avg_wl</th>\n",
       "    </tr>\n",
       "  </thead>\n",
       "  <tbody>\n",
       "    <tr>\n",
       "      <th>0</th>\n",
       "      <td>To all those who gloat “elections have consequ...</td>\n",
       "      <td>unclear</td>\n",
       "      <td>16</td>\n",
       "      <td>93</td>\n",
       "      <td>5.812500</td>\n",
       "      <td>to gloat elect consequ let administ vaccin con...</td>\n",
       "      <td>False</td>\n",
       "      <td>False</td>\n",
       "      <td>True</td>\n",
       "    </tr>\n",
       "    <tr>\n",
       "      <th>1</th>\n",
       "      <td>Corporations and health privacy in the US? How...</td>\n",
       "      <td>unclear</td>\n",
       "      <td>29</td>\n",
       "      <td>155</td>\n",
       "      <td>5.344828</td>\n",
       "      <td>corpor health privaci us how start outlaw drug...</td>\n",
       "      <td>False</td>\n",
       "      <td>False</td>\n",
       "      <td>True</td>\n",
       "    </tr>\n",
       "    <tr>\n",
       "      <th>2</th>\n",
       "      <td>No. Done with it.</td>\n",
       "      <td>unclear</td>\n",
       "      <td>4</td>\n",
       "      <td>14</td>\n",
       "      <td>3.500000</td>\n",
       "      <td>no done</td>\n",
       "      <td>False</td>\n",
       "      <td>False</td>\n",
       "      <td>False</td>\n",
       "    </tr>\n",
       "    <tr>\n",
       "      <th>3</th>\n",
       "      <td>I have not eaten outside my house since March....</td>\n",
       "      <td>unclear</td>\n",
       "      <td>63</td>\n",
       "      <td>242</td>\n",
       "      <td>3.841270</td>\n",
       "      <td>i eaten outsid hous sinc march i miss favorit ...</td>\n",
       "      <td>False</td>\n",
       "      <td>False</td>\n",
       "      <td>False</td>\n",
       "    </tr>\n",
       "    <tr>\n",
       "      <th>4</th>\n",
       "      <td>More people die each day in US from the virus ...</td>\n",
       "      <td>pro-mitigation</td>\n",
       "      <td>29</td>\n",
       "      <td>118</td>\n",
       "      <td>4.068966</td>\n",
       "      <td>more peopl die day us viru taiwan new case tel...</td>\n",
       "      <td>False</td>\n",
       "      <td>False</td>\n",
       "      <td>False</td>\n",
       "    </tr>\n",
       "  </tbody>\n",
       "</table>\n",
       "</div>"
      ],
      "text/plain": [
       "                                                text           label  \\\n",
       "0  To all those who gloat “elections have consequ...         unclear   \n",
       "1  Corporations and health privacy in the US? How...         unclear   \n",
       "2                                  No. Done with it.         unclear   \n",
       "3  I have not eaten outside my house since March....         unclear   \n",
       "4  More people die each day in US from the virus ...  pro-mitigation   \n",
       "\n",
       "   word_count  char_count  avg_word_length  \\\n",
       "0          16          93         5.812500   \n",
       "1          29         155         5.344828   \n",
       "2           4          14         3.500000   \n",
       "3          63         242         3.841270   \n",
       "4          29         118         4.068966   \n",
       "\n",
       "                                                stem  is_covid_present  \\\n",
       "0  to gloat elect consequ let administ vaccin con...             False   \n",
       "1  corpor health privaci us how start outlaw drug...             False   \n",
       "2                                            no done             False   \n",
       "3  i eaten outsid hous sinc march i miss favorit ...             False   \n",
       "4  more peopl die day us viru taiwan new case tel...             False   \n",
       "\n",
       "   avg_char_greaterthanmean  mean_avg_wl  \n",
       "0                     False         True  \n",
       "1                     False         True  \n",
       "2                     False        False  \n",
       "3                     False        False  \n",
       "4                     False        False  "
      ]
     },
     "execution_count": 382,
     "metadata": {},
     "output_type": "execute_result"
    }
   ],
   "source": [
    "# Adding Word Count, Character Count, Average Word Length and Stemming \n",
    "secondary_df['word_count'] = secondary_df[\"text\"].apply(lambda x: len(str(x).split(\" \")))\n",
    "secondary_df['char_count'] = secondary_df[\"text\"].apply(lambda x: sum(len(word) for word in str(x).split(\" \")))\n",
    "secondary_df['avg_word_length'] = secondary_df['char_count'] / secondary_df['word_count']\n",
    "porter = PorterStemmer()\n",
    "nltk.download('stopwords')\n",
    "sent_words=stopwords.words('english')\n",
    "secondary_df['stem']=secondary_df['text'].apply(lambda x:\" \".join([porter.stem(i) for i in re.sub(\"[^a-zA-Z]\",\" \",x).split() if i not in sent_words]).lower())\n",
    "\n",
    "\n",
    "# New Feature Covid\n",
    "empty_dicts = {}\n",
    "lss = []\n",
    "for i in secondary_df.stem:\n",
    "    lss.append(i)\n",
    "for i in ls:\n",
    "    for j in i.split(\" \"):\n",
    "        if j not in empty_dicts:\n",
    "            empty_dicts[j] = 1\n",
    "        else:\n",
    "            empty_dicts[j] += 1\n",
    "\n",
    "new_lss = []\n",
    "for i in secondary_df.stem:\n",
    "    if 'covid' in i:\n",
    "        new_lss.append(True)\n",
    "    else:\n",
    "        new_lss.append(False)\n",
    "secondary_df['is_covid_present'] = new_lss\n",
    "\n",
    "# Creating a feature to see if char_count is greater than mean of column or not on secondary\n",
    "mean_char_count = secondary_df['char_count'].mean()\n",
    "char_lss = []\n",
    "for i in secondary_df.char_count:\n",
    "    if i < mean_char_count:\n",
    "        char_lss.append(False)\n",
    "    else:\n",
    "        char_lss.append(True)\n",
    "secondary_df['avg_char_greaterthanmean'] = char_lss\n",
    "\n",
    "# Creating a feature to see if char_count is greater than mean of column or not \n",
    "mean_avg_wl = secondary_df['avg_word_length'].mean()\n",
    "mean_avg_wl_ls = []\n",
    "for j in secondary_df.avg_word_length:\n",
    "    if j < mean_avg_wl:\n",
    "        mean_avg_wl_ls.append(False)\n",
    "    else:\n",
    "        mean_avg_wl_ls.append(True)\n",
    "secondary_df['mean_avg_wl'] = mean_avg_wl_ls\n",
    "\n",
    "covid_feature_tests = secondary_df['is_covid_present'].astype(int)\n",
    "# word_count_feature_test = primary_test_set_fn['word_count']\n",
    "char_count_feature_tests = secondary_df['avg_char_greaterthanmean'].astype(int)\n",
    "mean_avg_wl_feature_tests = secondary_df['mean_avg_wl'].astype(int)\n",
    "\n",
    "secondary_df.head()"
   ]
  },
  {
   "cell_type": "code",
   "execution_count": 383,
   "id": "affecting-lewis",
   "metadata": {},
   "outputs": [],
   "source": [
    "X_new_count_fns = count_vect.transform(secondary_df['text'])\n",
    "X_new_count_fns_final = np.insert(X_new_count_fns.todense(), X_new_count_fns.shape[1], [covid_feature_tests, char_count_feature_tests, mean_avg_wl_feature_tests], axis=1)"
   ]
  },
  {
   "cell_type": "code",
   "execution_count": 386,
   "id": "nuclear-outdoors",
   "metadata": {},
   "outputs": [
    {
     "data": {
      "text/plain": [
       "0.3936039360393604"
      ]
     },
     "execution_count": 386,
     "metadata": {},
     "output_type": "execute_result"
    }
   ],
   "source": [
    "predicted_on_feats = clf_feat.predict(X_new_count_fns_final)\n",
    "accuracy_score(secondary_df['label'], predicted_on_feats)"
   ]
  },
  {
   "cell_type": "markdown",
   "id": "harmful-fleece",
   "metadata": {},
   "source": [
    "#### Accuracy score on secondary set didn't improve (0.39 without features)"
   ]
  },
  {
   "cell_type": "markdown",
   "id": "interim-inspiration",
   "metadata": {},
   "source": [
    "#### Using Logistic for the same on primary test set "
   ]
  },
  {
   "cell_type": "code",
   "execution_count": 389,
   "id": "driving-granny",
   "metadata": {},
   "outputs": [
    {
     "name": "stdout",
     "output_type": "stream",
     "text": [
      "                 precision    recall  f1-score   support\n",
      "\n",
      "anti-mitigation       0.55      0.28      0.37        43\n",
      " pro-mitigation       0.67      0.65      0.66       187\n",
      "        unclear       0.66      0.75      0.70       220\n",
      "\n",
      "       accuracy                           0.66       450\n",
      "      macro avg       0.63      0.56      0.58       450\n",
      "   weighted avg       0.65      0.66      0.65       450\n",
      "\n"
     ]
    }
   ],
   "source": [
    "lr_model_feat = LogisticRegression(penalty=\"none\", \n",
    "                              multi_class=\"multinomial\",\n",
    "                              solver=\"lbfgs\").fit(X_train_final, primary_df_train_set_fn[\"label\"])\n",
    "y_hat_lr_test_feat = lr_model_feat.predict(X_new_count_fn_final)\n",
    "print(metrics.classification_report(primary_test_set_fn['label'], y_hat_lr_test_feat, target_names=unique_labels(primary_df['label'])))"
   ]
  },
  {
   "cell_type": "markdown",
   "id": "matched-burst",
   "metadata": {},
   "source": [
    "#### Accuracy on primary improved to 0.66 (0.65 without features)"
   ]
  },
  {
   "cell_type": "code",
   "execution_count": 390,
   "id": "healthy-omega",
   "metadata": {},
   "outputs": [
    {
     "name": "stdout",
     "output_type": "stream",
     "text": [
      "                 precision    recall  f1-score   support\n",
      "\n",
      "anti-mitigation       0.08      0.06      0.07        79\n",
      " pro-mitigation       0.62      0.61      0.61       475\n",
      "        unclear       0.40      0.43      0.41       259\n",
      "\n",
      "       accuracy                           0.50       813\n",
      "      macro avg       0.36      0.37      0.37       813\n",
      "   weighted avg       0.50      0.50      0.50       813\n",
      "\n"
     ]
    }
   ],
   "source": [
    "y_hat_lr_test_secondary = lr_model_feat.predict(X_new_count_fns_final)\n",
    "print(metrics.classification_report(secondary_df['label'], y_hat_lr_test_secondary, \n",
    "                            target_names=unique_labels(secondary_df['label'])))"
   ]
  },
  {
   "cell_type": "markdown",
   "id": "large-target",
   "metadata": {},
   "source": [
    "#### Accuracy on secondary data set improved from 0.48 to 0.50 in the secondary set"
   ]
  },
  {
   "cell_type": "code",
   "execution_count": null,
   "id": "varied-infection",
   "metadata": {},
   "outputs": [],
   "source": []
  }
 ],
 "metadata": {
  "kernelspec": {
   "display_name": "Python 3",
   "language": "python",
   "name": "python3"
  },
  "language_info": {
   "codemirror_mode": {
    "name": "ipython",
    "version": 3
   },
   "file_extension": ".py",
   "mimetype": "text/x-python",
   "name": "python",
   "nbconvert_exporter": "python",
   "pygments_lexer": "ipython3",
   "version": "3.8.5"
  }
 },
 "nbformat": 4,
 "nbformat_minor": 5
}
